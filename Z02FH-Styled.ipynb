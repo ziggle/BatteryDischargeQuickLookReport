{
 "cells": [
  {
   "cell_type": "markdown",
   "metadata": {},
   "source": [
    "# Abstract"
   ]
  },
  {
   "cell_type": "markdown",
   "metadata": {},
   "source": [
    "This is a \"quick look\" test report that determines the capacity of batteries under repetitive charge and discharge cycles (CC/CV). This report reads the test files from the Data folder and performs some EDA on the data. "
   ]
  },
  {
   "cell_type": "code",
   "execution_count": 1,
   "metadata": {
    "scrolled": true
   },
   "outputs": [],
   "source": [
    "# Bring in the needed libraries\n",
    "import numpy as np\n",
    "import pandas as pd\n",
    "import matplotlib.pyplot as plt\n",
    "import seaborn as sns\n",
    "import glob\n",
    "import re\n",
    "from matplotlib import ticker\n",
    "from matplotlib.ticker import PercentFormatter"
   ]
  },
  {
   "cell_type": "markdown",
   "metadata": {},
   "source": [
    "## Data Cleaning Routine\n",
    "\n",
    "The files need to be cleaned prior to analyzing. The following routine cleans up the files. The cleanup actions are routine:\n",
    "\n",
    "* The data was grabbed for me by another engineer. \n",
    "* In general, the files contain multiple charge/discharge cycles. I have selected the third cycle (c == 3). I could average the cycles, but they are generally so similar that it is not worth it.\n",
    "* Each charge/discharge cycle contains multiple stages. Stage 4 is the discharge cycle.\n",
    "\n",
    "For a reason unknown to me, the CV=4.15V data had a different output format. So I wrote two different cleaning routine. I distinguished the files by call the CV=4.15 data \"csv\" and the others \"txt\".\n"
   ]
  },
  {
   "cell_type": "markdown",
   "metadata": {},
   "source": [
    "### Clean CSV Files\n",
    "\n",
    "While I call these CSV files, they actually are tab separated just like the other files. I gave them this name so that I could distinguish their format from the others. I wish I knew why the format was different, but it was. The key format difference is that the step time is in minutes rather than encoded in a string."
   ]
  },
  {
   "cell_type": "code",
   "execution_count": 2,
   "metadata": {
    "scrolled": true
   },
   "outputs": [],
   "source": [
    "def batTweak1(file):\n",
    "    return (\n",
    "        pd.read_csv(file, sep=\"\\t\",skiprows=4, header=0,usecols=[\"Cyc#\",\"Step\",\"StepTime\",\"Amps\",\"Volts\"])\n",
    "        .rename({\"Volts\":\"v\",\"Cyc#\":\"c\",\"StepTime\":\"t\"}, axis=1)\n",
    "        .query(\"c == 2 &  Step==5\")\n",
    "        .drop([\"Step\",\"Amps\",\"c\"],axis=1)\n",
    "        .assign(q = lambda x: x.t*0.5/60,\n",
    "                t = lambda x: x.t/60)\n",
    "    )"
   ]
  },
  {
   "cell_type": "markdown",
   "metadata": {},
   "source": [
    "### Clean TXT Files\n",
    "\n",
    "These are tab separated files that have step time encoded as an odd-ball date/time string."
   ]
  },
  {
   "cell_type": "code",
   "execution_count": 3,
   "metadata": {
    "scrolled": true
   },
   "outputs": [],
   "source": [
    "def batTweak(file):\n",
    "    return (\n",
    "        pd.read_csv(file, sep=\"\\t\",skiprows=4, header=0,usecols=[\"Cyc#\",\"Step\",\"StepTime\",\"Amps\",\"Volts\"])\n",
    "        .rename({\"Volts\":\"v\",\"Cyc#\":\"c\"}, axis=1)\n",
    "        .assign(days = lambda x: x.StepTime.str.extract(\"(.+?)d\"),\n",
    "                hours= lambda x: x.StepTime.str.extract(\"(?<=d)(.*)\"))\n",
    "        .assign(h =    lambda x: x.hours.str.extract(\"(\\d*)(?=:)\"),\n",
    "                m =    lambda x: x.hours.str.extract(\"(?<=:)(\\d*)\"),\n",
    "                s =    lambda x: x.hours.str.extract(\"(?<=:\\d\\d:)(.*)\"))\n",
    "        .drop([\"hours\",\"StepTime\",\"hours\"],axis=1)\n",
    "        .astype({\"days\":\"float64\",\"h\":\"float64\",\"m\":\"float64\",\"s\":\"float64\"})\n",
    "        .assign(t = lambda x: x.days*1440+x.h*60+x.m+x.s/60)\n",
    "        .drop([\"h\",\"m\",\"s\",\"days\"],axis=1)\n",
    "        .query(\"c == 4 &  Step==5\")\n",
    "        .drop([\"Step\",\"Amps\",\"c\"],axis=1)\n",
    "        .assign(q = lambda x: x.t*0.5/60,\n",
    "                t = lambda x: x.t/60)\n",
    "    )"
   ]
  },
  {
   "cell_type": "markdown",
   "metadata": {},
   "source": [
    "## Read the TXT Files and Clean\n",
    "\n",
    "Here we iterate through all the TXT files."
   ]
  },
  {
   "cell_type": "code",
   "execution_count": 4,
   "metadata": {
    "code_folding": []
   },
   "outputs": [],
   "source": [
    "### Utility File Reader\n",
    "\n",
    "def file_getter(f,g):\n",
    "    z = pd.DataFrame() # Create an empty dataframe\n",
    "    for f in files:\n",
    "        df = g(f)\n",
    "        unit = re.search(\"(?<=_U)\\w{2}\",f).group(0)\n",
    "        model = re.search(\"(?<=_M)\\w{4}\",f).group(0)\n",
    "        fctr = re.search(\"(?<=_D)\\w{3}\",f).group(0)\n",
    "        df = df.assign(Unit = \"U\"+unit,\n",
    "                       Model= model,\n",
    "                       CV = fctr)\n",
    "        vc = int(fctr)/100\n",
    "        new_row = pd.DataFrame({'v':vc, 't':0, 'q':0,'Unit':'U'+unit,\"Model\":model,\"CV\":fctr}, index=[0])\n",
    "        df=pd.concat([new_row,df.loc[:]]).reset_index(drop=True)\n",
    "        z = pd.concat([z,df])\n",
    "    return z.reset_index(drop=True)\n",
    "    "
   ]
  },
  {
   "cell_type": "code",
   "execution_count": 5,
   "metadata": {
    "scrolled": false
   },
   "outputs": [
    {
     "name": "stdout",
     "output_type": "stream",
     "text": [
      "            v          t          q Unit Model   CV\n",
      "0     4.20000   0.000000   0.000000  U01  Z02F  420\n",
      "1     4.17685   0.000003   0.000001  U01  Z02F  420\n",
      "2     4.16808   0.016669   0.008335  U01  Z02F  420\n",
      "3     4.16587   0.033336   0.016668  U01  Z02F  420\n",
      "4     4.16426   0.050003   0.025001  U01  Z02F  420\n",
      "...       ...        ...        ...  ...   ...  ...\n",
      "8350  3.12810  25.083344  12.541672  U03  Z02F  435\n",
      "8351  3.09865  25.100011  12.550006  U03  Z02F  435\n",
      "8352  3.06386  25.116678  12.558339  U03  Z02F  435\n",
      "8353  3.02083  25.133344  12.566672  U03  Z02F  435\n",
      "8354  3.00000  25.140089  12.570044  U03  Z02F  435\n",
      "\n",
      "[8355 rows x 6 columns]\n"
     ]
    }
   ],
   "source": [
    "files=glob.glob(\"./Z02_Test/*.txt\",recursive=False)\n",
    "z=file_getter(files,batTweak)\n",
    "print(z)\n",
    "files=glob.glob(\"./Z02_Test/*.csv\",recursive=False)\n",
    "z1=file_getter(files,batTweak1)\n",
    "z  = (pd.concat([z,z1])\n",
    "      .sort_values(by=['CV'])\n",
    "      .reset_index(drop=True)\n",
    "     )"
   ]
  },
  {
   "cell_type": "markdown",
   "metadata": {},
   "source": [
    "# Extract-Transform-Load\n",
    "\n",
    "Once cleaned, the data is in the correct format but needs to be augmented with information on the unit-under-test (UUT) and battery model info. This data can be extracted from the file name, which has the following format.\n",
    "<pre><code>\n",
    " (tester initials: 2 char)_U(unit number: 2 char)_M(model: 4 characters)_D(test description:any length, spaces=dashes)\n",
    "</code></pre>\n",
    "I do not like spaces in file names and I decided that topics are separated by underscores and spaces replaced with dashes. I can illustrate this format as follows:\n",
    "<pre><code>\n",
    "MB_U02_MZ22A_DLong-Test-4-1-CV-CH17.txt\n",
    "</code></pre>\n",
    "\n",
    "The file information tells us that:\n",
    "\n",
    "* Tester initials: MB\n",
    "* Unit Under Test: 02\n",
    "* Model Under Test: Z22A\n",
    "* Test Description: Long Test 4.1 CV Channel 17"
   ]
  },
  {
   "cell_type": "markdown",
   "metadata": {},
   "source": [
    "# Exploratory Data Analysis\n",
    "\n",
    "The capacity value and the State of Charge (SoC) curve are all derived from the discharge curve, which is what the Maccor battery tester measures. The discharge curve for all the parts is shown below."
   ]
  },
  {
   "cell_type": "code",
   "execution_count": 6,
   "metadata": {},
   "outputs": [
    {
     "name": "stdout",
     "output_type": "stream",
     "text": [
      "Index(['v', 't', 'q', 'Unit', 'Model', 'CV'], dtype='object')\n",
      "            v          t          q Unit Model   CV\n",
      "3867  4.35000   0.000000   0.000000  U03  Z02F  435\n",
      "3869  4.33486   0.000011   0.000006  U03  Z02F  435\n",
      "3889  4.32975   0.016678   0.008339  U03  Z02F  435\n",
      "3871  4.32761   0.033344   0.016672  U03  Z02F  435\n",
      "3888  4.32609   0.050011   0.025006  U03  Z02F  435\n",
      "...       ...        ...        ...  ...   ...  ...\n",
      "3828  3.07942  21.383336  10.691668  U01  Z02F  420\n",
      "7829  3.04677  24.833336  12.416668  U01  Z02F  435\n",
      "3812  3.03914  21.400003  10.700001  U01  Z02F  420\n",
      "3829  3.00000  21.412931  10.706465  U01  Z02F  420\n",
      "7828  2.99992  24.849281  12.424640  U01  Z02F  435\n",
      "\n",
      "[8355 rows x 6 columns]\n"
     ]
    }
   ],
   "source": [
    "print(z.columns)\n",
    "z.sort_values(by=[\"Unit\",\"v\"],ascending=False,inplace=True)\n",
    "print(z)"
   ]
  },
  {
   "cell_type": "code",
   "execution_count": 7,
   "metadata": {
    "scrolled": true
   },
   "outputs": [
    {
     "data": {
      "image/png": "[encoded data removed]",
      "text/plain": [
       "<Figure size 480x320 with 1 Axes>"
      ]
     },
     "metadata": {
      "needs_background": "light"
     },
     "output_type": "display_data"
    }
   ],
   "source": [
    "# View the Maccor Capacity Results\n",
    "zz = z.groupby([\"Unit\",\"CV\"])\n",
    "\n",
    "# Plot the Discharge Curve\n",
    "\n",
    "from matplotlib.pyplot import figure\n",
    "figure(figsize=(6, 4), dpi=80)\n",
    "sns.set_style(\"darkgrid\")\n",
    "\n",
    "fig = sns.lineplot(\n",
    "            x='t', \n",
    "            y='v',\n",
    "            hue='CV',\n",
    "            style='Unit',\n",
    "            data=z)\n",
    "\n",
    "plt.xlabel(\"Time (hours)\")\n",
    "plt.ylabel(\"VBAT (V)\")\n",
    "plt.title(\"Z02 Discharge Curve: 4.2V to 3.0V\")\n",
    "plt.show(fig)"
   ]
  },
  {
   "cell_type": "raw",
   "metadata": {},
   "source": []
  },
  {
   "cell_type": "markdown",
   "metadata": {},
   "source": [
    "# Battery Capacity - Vendor Voltage Range\n",
    "\n",
    "The battery capacities measured during this testing are computed below."
   ]
  },
  {
   "cell_type": "markdown",
   "metadata": {},
   "source": [
    "## Individual Battery Capacities"
   ]
  },
  {
   "cell_type": "code",
   "execution_count": 8,
   "metadata": {
    "scrolled": true
   },
   "outputs": [
    {
     "data": {
      "text/html": [
       "<div>\n",
       "<style scoped>\n",
       "    .dataframe tbody tr th:only-of-type {\n",
       "        vertical-align: middle;\n",
       "    }\n",
       "\n",
       "    .dataframe tbody tr th {\n",
       "        vertical-align: top;\n",
       "    }\n",
       "\n",
       "    .dataframe thead th {\n",
       "        text-align: right;\n",
       "    }\n",
       "</style>\n",
       "<table border=\"1\" class=\"dataframe\">\n",
       "  <thead>\n",
       "    <tr style=\"text-align: right;\">\n",
       "      <th></th>\n",
       "      <th></th>\n",
       "      <th>Time (h)</th>\n",
       "      <th>Charge (mAh)</th>\n",
       "      <th>Model</th>\n",
       "    </tr>\n",
       "    <tr>\n",
       "      <th>Voltage</th>\n",
       "      <th>UUT</th>\n",
       "      <th></th>\n",
       "      <th></th>\n",
       "      <th></th>\n",
       "    </tr>\n",
       "  </thead>\n",
       "  <tbody>\n",
       "    <tr>\n",
       "      <th rowspan=\"3\" valign=\"top\">4.20</th>\n",
       "      <th>U01</th>\n",
       "      <td>21.41</td>\n",
       "      <td>10.71</td>\n",
       "      <td>Z02F</td>\n",
       "    </tr>\n",
       "    <tr>\n",
       "      <th>U02</th>\n",
       "      <td>21.49</td>\n",
       "      <td>10.74</td>\n",
       "      <td>Z02F</td>\n",
       "    </tr>\n",
       "    <tr>\n",
       "      <th>U03</th>\n",
       "      <td>21.17</td>\n",
       "      <td>10.58</td>\n",
       "      <td>Z02F</td>\n",
       "    </tr>\n",
       "    <tr>\n",
       "      <th rowspan=\"3\" valign=\"top\">4.35</th>\n",
       "      <th>U01</th>\n",
       "      <td>24.85</td>\n",
       "      <td>12.42</td>\n",
       "      <td>Z02F</td>\n",
       "    </tr>\n",
       "    <tr>\n",
       "      <th>U02</th>\n",
       "      <td>24.93</td>\n",
       "      <td>12.47</td>\n",
       "      <td>Z02F</td>\n",
       "    </tr>\n",
       "    <tr>\n",
       "      <th>U03</th>\n",
       "      <td>25.14</td>\n",
       "      <td>12.57</td>\n",
       "      <td>Z02F</td>\n",
       "    </tr>\n",
       "  </tbody>\n",
       "</table>\n",
       "</div>"
      ],
      "text/plain": [
       "             Time (h)  Charge (mAh) Model\n",
       "Voltage UUT                              \n",
       "4.20    U01     21.41         10.71  Z02F\n",
       "        U02     21.49         10.74  Z02F\n",
       "        U03     21.17         10.58  Z02F\n",
       "4.35    U01     24.85         12.42  Z02F\n",
       "        U02     24.93         12.47  Z02F\n",
       "        U03     25.14         12.57  Z02F"
      ]
     },
     "metadata": {},
     "output_type": "display_data"
    }
   ],
   "source": [
    "g1 = np.round(z.groupby( [\"CV\",\"Unit\"] ).max(),2)\n",
    "gz=  (g1[[\"t\",\"q\",\"Model\"]]\n",
    "      .rename(columns={\"t\":\"Time (h)\",\"q\":\"Charge (mAh)\"}, \\\n",
    "              index  = {'435':'4.35','420':'4.20'})\n",
    "      .rename_axis(['Voltage','UUT'], axis=0)\n",
    "     )\n",
    "display(gz)"
   ]
  },
  {
   "cell_type": "code",
   "execution_count": 26,
   "metadata": {
    "scrolled": false
   },
   "outputs": [
    {
     "data": {
      "text/html": [
       "<style  type=\"text/css\" >\n",
       "    #T_ae5b28bd_cccb_11ed_a3b4_cc3d827df47e thead {\n",
       "          background-color: tan;\n",
       "    }    #T_ae5b28bd_cccb_11ed_a3b4_cc3d827df47e tbody tr:nth-child(even) {\n",
       "          background-color: navajowhite;\n",
       "    }    #T_ae5b28bd_cccb_11ed_a3b4_cc3d827df47e th.row_heading {\n",
       "          background-color: beige;\n",
       "    }    #T_ae5b28bd_cccb_11ed_a3b4_cc3d827df47e td {\n",
       "          border: white;\n",
       "    }</style><table id=\"T_ae5b28bd_cccb_11ed_a3b4_cc3d827df47e\" ><thead>    <tr>        <th class=\"blank\" ></th>        <th class=\"blank level0\" ></th>        <th class=\"col_heading level0 col0\" >Time (h)</th>        <th class=\"col_heading level0 col1\" >Charge (mAh)</th>        <th class=\"col_heading level0 col2\" >Model</th>    </tr>    <tr>        <th class=\"index_name level0\" >Voltage</th>        <th class=\"index_name level1\" >UUT</th>        <th class=\"blank\" ></th>        <th class=\"blank\" ></th>        <th class=\"blank\" ></th>    </tr></thead><tbody>\n",
       "                <tr>\n",
       "                        <th id=\"T_ae5b28bd_cccb_11ed_a3b4_cc3d827df47elevel0_row0\" class=\"row_heading level0 row0\" rowspan=3>4.20</th>\n",
       "                        <th id=\"T_ae5b28bd_cccb_11ed_a3b4_cc3d827df47elevel1_row0\" class=\"row_heading level1 row0\" >U01</th>\n",
       "                        <td id=\"T_ae5b28bd_cccb_11ed_a3b4_cc3d827df47erow0_col0\" class=\"data row0 col0\" >21.41</td>\n",
       "                        <td id=\"T_ae5b28bd_cccb_11ed_a3b4_cc3d827df47erow0_col1\" class=\"data row0 col1\" >10.71</td>\n",
       "                        <td id=\"T_ae5b28bd_cccb_11ed_a3b4_cc3d827df47erow0_col2\" class=\"data row0 col2\" >Z02F</td>\n",
       "            </tr>\n",
       "            <tr>\n",
       "                                <th id=\"T_ae5b28bd_cccb_11ed_a3b4_cc3d827df47elevel1_row1\" class=\"row_heading level1 row1\" >U02</th>\n",
       "                        <td id=\"T_ae5b28bd_cccb_11ed_a3b4_cc3d827df47erow1_col0\" class=\"data row1 col0\" >21.49</td>\n",
       "                        <td id=\"T_ae5b28bd_cccb_11ed_a3b4_cc3d827df47erow1_col1\" class=\"data row1 col1\" >10.74</td>\n",
       "                        <td id=\"T_ae5b28bd_cccb_11ed_a3b4_cc3d827df47erow1_col2\" class=\"data row1 col2\" >Z02F</td>\n",
       "            </tr>\n",
       "            <tr>\n",
       "                                <th id=\"T_ae5b28bd_cccb_11ed_a3b4_cc3d827df47elevel1_row2\" class=\"row_heading level1 row2\" >U03</th>\n",
       "                        <td id=\"T_ae5b28bd_cccb_11ed_a3b4_cc3d827df47erow2_col0\" class=\"data row2 col0\" >21.17</td>\n",
       "                        <td id=\"T_ae5b28bd_cccb_11ed_a3b4_cc3d827df47erow2_col1\" class=\"data row2 col1\" >10.58</td>\n",
       "                        <td id=\"T_ae5b28bd_cccb_11ed_a3b4_cc3d827df47erow2_col2\" class=\"data row2 col2\" >Z02F</td>\n",
       "            </tr>\n",
       "            <tr>\n",
       "                        <th id=\"T_ae5b28bd_cccb_11ed_a3b4_cc3d827df47elevel0_row3\" class=\"row_heading level0 row3\" rowspan=3>4.35</th>\n",
       "                        <th id=\"T_ae5b28bd_cccb_11ed_a3b4_cc3d827df47elevel1_row3\" class=\"row_heading level1 row3\" >U01</th>\n",
       "                        <td id=\"T_ae5b28bd_cccb_11ed_a3b4_cc3d827df47erow3_col0\" class=\"data row3 col0\" >24.85</td>\n",
       "                        <td id=\"T_ae5b28bd_cccb_11ed_a3b4_cc3d827df47erow3_col1\" class=\"data row3 col1\" >12.42</td>\n",
       "                        <td id=\"T_ae5b28bd_cccb_11ed_a3b4_cc3d827df47erow3_col2\" class=\"data row3 col2\" >Z02F</td>\n",
       "            </tr>\n",
       "            <tr>\n",
       "                                <th id=\"T_ae5b28bd_cccb_11ed_a3b4_cc3d827df47elevel1_row4\" class=\"row_heading level1 row4\" >U02</th>\n",
       "                        <td id=\"T_ae5b28bd_cccb_11ed_a3b4_cc3d827df47erow4_col0\" class=\"data row4 col0\" >24.93</td>\n",
       "                        <td id=\"T_ae5b28bd_cccb_11ed_a3b4_cc3d827df47erow4_col1\" class=\"data row4 col1\" >12.47</td>\n",
       "                        <td id=\"T_ae5b28bd_cccb_11ed_a3b4_cc3d827df47erow4_col2\" class=\"data row4 col2\" >Z02F</td>\n",
       "            </tr>\n",
       "            <tr>\n",
       "                                <th id=\"T_ae5b28bd_cccb_11ed_a3b4_cc3d827df47elevel1_row5\" class=\"row_heading level1 row5\" >U03</th>\n",
       "                        <td id=\"T_ae5b28bd_cccb_11ed_a3b4_cc3d827df47erow5_col0\" class=\"data row5 col0\" >25.14</td>\n",
       "                        <td id=\"T_ae5b28bd_cccb_11ed_a3b4_cc3d827df47erow5_col1\" class=\"data row5 col1\" >12.57</td>\n",
       "                        <td id=\"T_ae5b28bd_cccb_11ed_a3b4_cc3d827df47erow5_col2\" class=\"data row5 col2\" >Z02F</td>\n",
       "            </tr>\n",
       "    </tbody></table>"
      ],
      "text/plain": [
       "<pandas.io.formats.style.Styler at 0x1eb84f7d760>"
      ]
     },
     "execution_count": 26,
     "metadata": {},
     "output_type": "execute_result"
    }
   ],
   "source": [
    "\n",
    "# https://stackoverflow.com/questions/53062000/how-to-set-the-precision-for-the-output-of-the-pandas-dataframe-loc-in-a-jupyter\n",
    "# https://stackoverflow.com/questions/42576491/python3-pandas-styles-change-alternate-row-color\n",
    "# I have not been able to set the precision for each column independently\n",
    "\n",
    "def dfdark(styler):\n",
    "    #styler.background_gradient(cmap='coolwarm')\n",
    "    #styler.color('white')\n",
    "    styler.set_table_styles([\n",
    "        {\n",
    "            \"selector\":\"thead\",\n",
    "            \"props\":[(\"background-color\",\"tan\")]\n",
    "        },\n",
    "        {\n",
    "            \"selector\":\"tbody tr:nth-child(even)\",\n",
    "            \"props\":[(\"background-color\",\"navajowhite\")]\n",
    "        },\n",
    "        {\n",
    "            \"selector\":\"th.row_heading\",\n",
    "            \"props\":[(\"background-color\",\"beige\")]\n",
    "        },\n",
    "        {\n",
    "            \"selector\":\"td\",\n",
    "            \"props\":[(\"border\",\"white\")]\n",
    "        },\n",
    "\n",
    "    ])\n",
    "    return styler\n",
    "    #styler.format(color='grey')\n",
    "\n",
    "with pd.option_context('display.precision', 2):\n",
    "    style = gz.style.pipe(dfdark)\n",
    "style"
   ]
  },
  {
   "cell_type": "markdown",
   "metadata": {},
   "source": [
    "## Aggregated Results\n",
    "\n",
    "The means of the measured values can be computed as follows."
   ]
  },
  {
   "cell_type": "code",
   "execution_count": 28,
   "metadata": {},
   "outputs": [
    {
     "data": {
      "text/html": [
       "<style  type=\"text/css\" >\n",
       "    #T_ce2caf5a_cccb_11ed_b160_cc3d827df47e thead {\n",
       "          background-color: tan;\n",
       "    }    #T_ce2caf5a_cccb_11ed_b160_cc3d827df47e tbody tr:nth-child(even) {\n",
       "          background-color: navajowhite;\n",
       "    }    #T_ce2caf5a_cccb_11ed_b160_cc3d827df47e th.row_heading {\n",
       "          background-color: beige;\n",
       "    }    #T_ce2caf5a_cccb_11ed_b160_cc3d827df47e td {\n",
       "          border: white;\n",
       "    }</style><table id=\"T_ce2caf5a_cccb_11ed_b160_cc3d827df47e\" ><thead>    <tr>        <th class=\"blank level0\" ></th>        <th class=\"col_heading level0 col0\" >Time (h)</th>        <th class=\"col_heading level0 col1\" >Charge (mAh)</th>    </tr>    <tr>        <th class=\"index_name level0\" >Voltage</th>        <th class=\"blank\" ></th>        <th class=\"blank\" ></th>    </tr></thead><tbody>\n",
       "                <tr>\n",
       "                        <th id=\"T_ce2caf5a_cccb_11ed_b160_cc3d827df47elevel0_row0\" class=\"row_heading level0 row0\" >4.2</th>\n",
       "                        <td id=\"T_ce2caf5a_cccb_11ed_b160_cc3d827df47erow0_col0\" class=\"data row0 col0\" >21.36</td>\n",
       "                        <td id=\"T_ce2caf5a_cccb_11ed_b160_cc3d827df47erow0_col1\" class=\"data row0 col1\" >10.68</td>\n",
       "            </tr>\n",
       "            <tr>\n",
       "                        <th id=\"T_ce2caf5a_cccb_11ed_b160_cc3d827df47elevel0_row1\" class=\"row_heading level0 row1\" >4.35</th>\n",
       "                        <td id=\"T_ce2caf5a_cccb_11ed_b160_cc3d827df47erow1_col0\" class=\"data row1 col0\" >24.97</td>\n",
       "                        <td id=\"T_ce2caf5a_cccb_11ed_b160_cc3d827df47erow1_col1\" class=\"data row1 col1\" >12.49</td>\n",
       "            </tr>\n",
       "    </tbody></table>"
      ],
      "text/plain": [
       "<pandas.io.formats.style.Styler at 0x1eb84fe9520>"
      ]
     },
     "execution_count": 28,
     "metadata": {},
     "output_type": "execute_result"
    }
   ],
   "source": [
    "g1 = z.groupby( [\"CV\",\"Unit\"] ).max()\n",
    "gzz= (g1.groupby(['CV'])\n",
    "      .mean()\n",
    "      .set_index(['v'],drop=True)\n",
    "      .rename(columns={\"t\":\"Time (h)\",\"q\":\"Charge (mAh)\"})\n",
    "      .rename_axis(\"Voltage\", axis=0)\n",
    "     )\n",
    "\n",
    "with pd.option_context('display.precision', 2):\n",
    "    style = gzz.style.pipe(dfdark)\n",
    "style\n"
   ]
  },
  {
   "cell_type": "markdown",
   "metadata": {},
   "source": [
    "## Pivot Table Form\n",
    "\n",
    "You can generate the same result using a pivot table. I just use this here as a cross-check."
   ]
  },
  {
   "cell_type": "code",
   "execution_count": 29,
   "metadata": {},
   "outputs": [
    {
     "data": {
      "text/html": [
       "<style  type=\"text/css\" >\n",
       "    #T_dcc70bdd_cccb_11ed_9866_cc3d827df47e thead {\n",
       "          background-color: tan;\n",
       "    }    #T_dcc70bdd_cccb_11ed_9866_cc3d827df47e tbody tr:nth-child(even) {\n",
       "          background-color: navajowhite;\n",
       "    }    #T_dcc70bdd_cccb_11ed_9866_cc3d827df47e th.row_heading {\n",
       "          background-color: beige;\n",
       "    }    #T_dcc70bdd_cccb_11ed_9866_cc3d827df47e td {\n",
       "          border: white;\n",
       "    }</style><table id=\"T_dcc70bdd_cccb_11ed_9866_cc3d827df47e\" ><thead>    <tr>        <th class=\"blank level0\" ></th>        <th class=\"col_heading level0 col0\" >Charge (mAh)</th>        <th class=\"col_heading level0 col1\" >Time (h)</th>    </tr>    <tr>        <th class=\"index_name level0\" >Termination Voltage</th>        <th class=\"blank\" ></th>        <th class=\"blank\" ></th>    </tr></thead><tbody>\n",
       "                <tr>\n",
       "                        <th id=\"T_dcc70bdd_cccb_11ed_9866_cc3d827df47elevel0_row0\" class=\"row_heading level0 row0\" >4.20</th>\n",
       "                        <td id=\"T_dcc70bdd_cccb_11ed_9866_cc3d827df47erow0_col0\" class=\"data row0 col0\" >10.68</td>\n",
       "                        <td id=\"T_dcc70bdd_cccb_11ed_9866_cc3d827df47erow0_col1\" class=\"data row0 col1\" >21.36</td>\n",
       "            </tr>\n",
       "            <tr>\n",
       "                        <th id=\"T_dcc70bdd_cccb_11ed_9866_cc3d827df47elevel0_row1\" class=\"row_heading level0 row1\" >4.35</th>\n",
       "                        <td id=\"T_dcc70bdd_cccb_11ed_9866_cc3d827df47erow1_col0\" class=\"data row1 col0\" >12.49</td>\n",
       "                        <td id=\"T_dcc70bdd_cccb_11ed_9866_cc3d827df47erow1_col1\" class=\"data row1 col1\" >24.97</td>\n",
       "            </tr>\n",
       "    </tbody></table>"
      ],
      "text/plain": [
       "<pandas.io.formats.style.Styler at 0x1eb850e21f0>"
      ]
     },
     "execution_count": 29,
     "metadata": {},
     "output_type": "execute_result"
    }
   ],
   "source": [
    "g2=(g1\n",
    "    .pivot_table(values=['q','t'],index=[\"CV\"],aggfunc=np.mean)\n",
    "    .rename(columns={\"t\":\"Time (h)\",\"q\":\"Charge (mAh)\"}, \\\n",
    "            index =  {'420':'4.20','435':'4.35'})\n",
    "    .rename_axis('Termination Voltage')\n",
    "   )\n",
    "\n",
    "with pd.option_context('display.precision', 2):\n",
    "    style = g2.style.pipe(dfdark)\n",
    "style\n"
   ]
  },
  {
   "cell_type": "markdown",
   "metadata": {},
   "source": [
    "# Battery Capacity - Starkey Voltage Range"
   ]
  },
  {
   "cell_type": "code",
   "execution_count": 30,
   "metadata": {
    "scrolled": true
   },
   "outputs": [
    {
     "data": {
      "text/html": [
       "<style  type=\"text/css\" >\n",
       "    #T_e43b4187_cccb_11ed_b9c1_cc3d827df47e thead {\n",
       "          background-color: tan;\n",
       "    }    #T_e43b4187_cccb_11ed_b9c1_cc3d827df47e tbody tr:nth-child(even) {\n",
       "          background-color: navajowhite;\n",
       "    }    #T_e43b4187_cccb_11ed_b9c1_cc3d827df47e th.row_heading {\n",
       "          background-color: beige;\n",
       "    }    #T_e43b4187_cccb_11ed_b9c1_cc3d827df47e td {\n",
       "          border: white;\n",
       "    }</style><table id=\"T_e43b4187_cccb_11ed_b9c1_cc3d827df47e\" ><thead>    <tr>        <th class=\"blank level0\" ></th>        <th class=\"col_heading level0 col0\" >Charge (mAh)</th>    </tr>    <tr>        <th class=\"index_name level0\" >Voltage</th>        <th class=\"blank\" ></th>    </tr></thead><tbody>\n",
       "                <tr>\n",
       "                        <th id=\"T_e43b4187_cccb_11ed_b9c1_cc3d827df47elevel0_row0\" class=\"row_heading level0 row0\" >4.35</th>\n",
       "                        <td id=\"T_e43b4187_cccb_11ed_b9c1_cc3d827df47erow0_col0\" class=\"data row0 col0\" >12.26</td>\n",
       "            </tr>\n",
       "            <tr>\n",
       "                        <th id=\"T_e43b4187_cccb_11ed_b9c1_cc3d827df47elevel0_row1\" class=\"row_heading level0 row1\" >4.2</th>\n",
       "                        <td id=\"T_e43b4187_cccb_11ed_b9c1_cc3d827df47erow1_col0\" class=\"data row1 col0\" >10.55</td>\n",
       "            </tr>\n",
       "    </tbody></table>"
      ],
      "text/plain": [
       "<pandas.io.formats.style.Styler at 0x1eb84fe2d00>"
      ]
     },
     "execution_count": 30,
     "metadata": {},
     "output_type": "execute_result"
    }
   ],
   "source": [
    "# It is important to understand the impact of the low battery voltage on the battery capacity.\n",
    "vLow=3*1.16\n",
    "tLowBat=30/60\n",
    "iDischarge=0.36\n",
    "qFix=tLowBat*iDischarge\n",
    "from scipy.interpolate import interp1d\n",
    "vy = pd.DataFrame({'CV':[],'q':[]})\n",
    "for y in z['CV'].unique():\n",
    "    vx = []\n",
    "    for x in z['Unit'].unique():\n",
    "        interp_func = interp1d(z.query(f\"Unit=='{x}' & CV=='{y}'\").v, z.query(f\"Unit=='{x}' & CV=='{y}'\").q)\n",
    "        qx = interp_func(vLow)\n",
    "    vy =vy.append({'CV':y,'q':qx+qFix},ignore_index=True)\n",
    "gzzz= (vy\n",
    "      .set_index(['CV'],drop=True)\n",
    "      .rename(columns={\"q\":\"Charge (mAh)\"},index={'435':4.35,'420':4.20})\n",
    "      .rename_axis(\"Voltage\", axis=0)\n",
    "     )\n",
    "with pd.option_context('display.precision', 2):\n",
    "    style = gzzz.style.pipe(dfdark)\n",
    "style"
   ]
  },
  {
   "cell_type": "markdown",
   "metadata": {},
   "source": [
    "# SOC Curves"
   ]
  },
  {
   "cell_type": "markdown",
   "metadata": {},
   "source": [
    "## Generate SOC Curves for Each UUT"
   ]
  },
  {
   "cell_type": "code",
   "execution_count": 13,
   "metadata": {
    "scrolled": true
   },
   "outputs": [
    {
     "name": "stdout",
     "output_type": "stream",
     "text": [
      "      soc   VBAT    Data_Source    SOC\n",
      "0   100.0  4.200  Vendor (Z22A)  1.000\n",
      "1    99.9  4.180  Vendor (Z22A)  0.999\n",
      "2    95.0  4.125  Vendor (Z22A)  0.950\n",
      "3    90.0  4.080  Vendor (Z22A)  0.900\n",
      "4    85.0  4.039  Vendor (Z22A)  0.850\n",
      "5    80.0  4.000  Vendor (Z22A)  0.800\n",
      "6    75.0  3.965  Vendor (Z22A)  0.750\n",
      "7    70.0  3.931  Vendor (Z22A)  0.700\n",
      "8    65.0  3.897  Vendor (Z22A)  0.650\n",
      "9    60.0  3.860  Vendor (Z22A)  0.600\n",
      "10   55.0  3.835  Vendor (Z22A)  0.550\n",
      "11   50.0  3.817  Vendor (Z22A)  0.500\n",
      "12   40.0  3.788  Vendor (Z22A)  0.400\n",
      "13   35.0  3.775  Vendor (Z22A)  0.350\n",
      "14   30.0  3.758  Vendor (Z22A)  0.300\n",
      "15   25.0  3.740  Vendor (Z22A)  0.250\n",
      "16   20.0  3.721  Vendor (Z22A)  0.200\n",
      "17   15.0  3.691  Vendor (Z22A)  0.150\n",
      "18   10.0  3.679  Vendor (Z22A)  0.100\n",
      "19    5.0  3.595  Vendor (Z22A)  0.050\n",
      "20    3.0  3.490  Vendor (Z22A)  0.030\n",
      "21    2.0  3.410  Vendor (Z22A)  0.020\n",
      "22    1.0  3.300  Vendor (Z22A)  0.010\n",
      "23    0.0  3.000  Vendor (Z22A)  0.000\n",
      "         VBAT          t          q Unit Model   CV       SOC    Data_Source\n",
      "3867  4.35000   0.000000   0.000000  U03  Z02F  435  1.000000  Maccor (mean)\n",
      "3869  4.33486   0.000011   0.000006  U03  Z02F  435  1.000000  Maccor (mean)\n",
      "3889  4.32975   0.016678   0.008339  U03  Z02F  435  0.999337  Maccor (mean)\n",
      "3871  4.32761   0.033344   0.016672  U03  Z02F  435  0.998674  Maccor (mean)\n",
      "3888  4.32609   0.050011   0.025006  U03  Z02F  435  0.998011  Maccor (mean)\n",
      "...       ...        ...        ...  ...   ...  ...       ...            ...\n",
      "3826  3.14084  21.350003  10.675001  U01  Z02F  420  0.002939  Maccor (mean)\n",
      "3827  3.11261  21.366669  10.683335  U01  Z02F  420  0.002160  Maccor (mean)\n",
      "3828  3.07942  21.383336  10.691668  U01  Z02F  420  0.001382  Maccor (mean)\n",
      "3812  3.03914  21.400003  10.700001  U01  Z02F  420  0.000604  Maccor (mean)\n",
      "3829  3.00000  21.412931  10.706465  U01  Z02F  420  0.000000  Maccor (mean)\n",
      "\n",
      "[8355 rows x 8 columns]\n"
     ]
    }
   ],
   "source": [
    "vendor=pd.DataFrame({\"soc\" :[100,99.9,95,90,85,80,75,70,65,60,55,50,40,35,30,25,20,15,10,5,3,2,1,0],\n",
    "                    \"VBAT\":[4.2,4.18,4.125,4.08,4.039,4,3.965,3.931,3.897,3.86,3.835,3.817,3.788,3.775,3.758,3.74,3.721,3.691,3.679,3.595,3.49,3.41,3.3,3\n",
    "]}\n",
    ")\n",
    "vendor[\"Data_Source\"]=\"Vendor (Z22A)\"\n",
    "vendor['SOC']=0.01*vendor.soc\n",
    "print(vendor)\n",
    "\n",
    "r = pd.DataFrame()\n",
    "for v in z['CV'].unique():\n",
    "    for u in z['Unit'].unique():\n",
    "        s = z.query(f\"Unit=='{u}' & CV=='{v}'\")\n",
    "        s=s.sort_values(by=['t'])\n",
    "        m = s['q'].max()\n",
    "        s=s.assign(soc = 1-s['q']/m)\n",
    "        r = pd.concat([r,s])\n",
    "        \n",
    "r[\"Data_Source\"]=\"Maccor (mean)\"\n",
    "r=r.rename(columns={\"v\":\"VBAT\",\"soc\":\"SOC\"})\n",
    "print(r)"
   ]
  },
  {
   "cell_type": "markdown",
   "metadata": {},
   "source": [
    "## Graph SOC from 3.0 V to 4.2 V\n",
    "\n",
    "The vendor's normally rate their batteries from 3.0 V to 4.2 V. There are two batteries under test. The following plot shows an overplot of the two curves. As you can see, the two devices are very consistent. Normally, I average the two curves. In this case, there is no need to average because they are so similar."
   ]
  },
  {
   "cell_type": "code",
   "execution_count": 14,
   "metadata": {},
   "outputs": [
    {
     "data": {
      "image/png": "[encoded data removed]",
      "text/plain": [
       "<Figure size 484.875x288 with 1 Axes>"
      ]
     },
     "metadata": {},
     "output_type": "display_data"
    }
   ],
   "source": [
    "import matplotlib.ticker as tkr\n",
    "df3 = pd.concat([r,vendor]).reset_index(drop=True)\n",
    "ax=sns.relplot(x = df3.VBAT, y = df3.SOC, hue=df3.CV, palette = ['red', 'blue'],kind=\"line\", \\\n",
    "              height=4, aspect=6/4)\n",
    "ax.set(title='Z02FH SOC versus Z22A SOC',ylabel=\"SOC (%)\",xlabel=\"VBAT (V)\")\n",
    "for a in ax.axes.flat:\n",
    "    a.yaxis.set_major_formatter(tkr.FuncFormatter(lambda y, p: f'{y:.0%}'))\n",
    "leg = ax._legend\n",
    "leg.set_title(\"Termination Voltage\")\n",
    "leg.set_bbox_to_anchor([0.10, 0.95])\n",
    "leg._loc = 2 \n",
    "plt.show()\n",
    "\n"
   ]
  },
  {
   "cell_type": "code",
   "execution_count": 15,
   "metadata": {
    "scrolled": false
   },
   "outputs": [
    {
     "data": {
      "image/png": "[encoded data removed]",
      "text/plain": [
       "<Figure size 432x288 with 1 Axes>"
      ]
     },
     "metadata": {},
     "output_type": "display_data"
    }
   ],
   "source": [
    "\n",
    "plt.figure(figsize=(6,4))\n",
    "g=sns.lineplot(\n",
    "                     x=r.VBAT,\n",
    "                     y=r.SOC*100,\n",
    "                     style=r.Unit,\n",
    "                     hue=r.CV,\n",
    "                     alpha=0.6\n",
    ")\n",
    "g.yaxis.set_major_formatter(PercentFormatter())\n",
    "g.set_title(\"SOC Overplot\")\n",
    "plt.xlabel(\"VBAT (V)\")\n",
    "plt.ylabel(\"SOC (%)\")\n",
    "plt.title(\"Z02FH SOC Curve\")\n",
    "plt.show(fig)"
   ]
  },
  {
   "cell_type": "markdown",
   "metadata": {},
   "source": [
    "## Single Graph SOC Overplot\n",
    "\n",
    "I simply filtered for one unit and plotted all the SOCs on one plot. "
   ]
  },
  {
   "cell_type": "code",
   "execution_count": 16,
   "metadata": {
    "scrolled": false
   },
   "outputs": [
    {
     "data": {
      "image/png": "[encoded data removed]",
      "text/plain": [
       "<Figure size 432x288 with 1 Axes>"
      ]
     },
     "metadata": {},
     "output_type": "display_data"
    }
   ],
   "source": [
    "# These are close enough that I don't need to average them. I will just overplot.\n",
    "\n",
    "r1 = r.query(\"Unit=='U01'\").assign(SOC = lambda x: x.SOC*100)\n",
    "plt.figure(figsize=(6,4))\n",
    "g = sns.lineplot(data=r1,x='VBAT', y='SOC',hue='CV')\n",
    "g.yaxis.set_major_formatter(PercentFormatter())\n",
    "g.set_title(\"SOC Overplot\")\n",
    "plt.xlabel(\"VBAT (V)\")\n",
    "plt.ylabel(\"SOC (%)\")\n",
    "plt.title(\"Z02FH SOC Curve (0.5 mA)\")\n",
    "plt.show(fig)"
   ]
  },
  {
   "cell_type": "markdown",
   "metadata": {},
   "source": [
    "## SOC from 3.414 V to 4.2 V\n",
    "\n",
    "This is the SOC we would use in our application."
   ]
  },
  {
   "cell_type": "code",
   "execution_count": 17,
   "metadata": {},
   "outputs": [],
   "source": [
    "from scipy import interpolate\n",
    "n = r1[r1['VBAT']>3.414]\n",
    "y1 = pd.DataFrame()\n",
    "for u in n.CV.unique():\n",
    "    x = n[n['CV']==u]\n",
    "    socmin=x['SOC'].min()\n",
    "    f1 = interpolate.interp1d(x.VBAT, x.t, fill_value='extrapolate')\n",
    "    g1 = interpolate.interp1d(x.VBAT, x.q, fill_value='extrapolate')\n",
    "    new_row = pd.DataFrame({'SOC':0,'VBAT':3.414, 't':f1(3.414), 'q':g1(3.414),'Unit':'U01',\"Model\":\"Z22A\",\"CV\":u}, index=[0])\n",
    "    x=x.assign(SOC = lambda x: (x.SOC-socmin)/(100-socmin))\n",
    "    x=pd.concat([x.loc[:],new_row])\n",
    "    y1 = pd.concat([y1,x]).reset_index(drop=True)"
   ]
  },
  {
   "cell_type": "code",
   "execution_count": 18,
   "metadata": {
    "scrolled": true
   },
   "outputs": [
    {
     "data": {
      "image/png": "[encoded data removed]",
      "text/plain": [
       "<Figure size 432x288 with 1 Axes>"
      ]
     },
     "metadata": {},
     "output_type": "display_data"
    }
   ],
   "source": [
    "sns.set_style(\"darkgrid\")\n",
    "plt.figure(figsize=(6,4))\n",
    "y1.SOC = y1.SOC*100\n",
    "fig = sns.lineplot(\n",
    "            x='VBAT', \n",
    "            y='SOC',\n",
    "            hue='CV', \n",
    "            data=y1)\n",
    "fig.yaxis.set_major_formatter(PercentFormatter())\n",
    "plt.xlabel(\"VBAT (V)\")\n",
    "plt.ylabel(\"SOC(%)\")\n",
    "plt.title(\"Z02 Discharge Curve\")\n",
    "plt.show(fig)"
   ]
  }
 ],
 "metadata": {
  "kernelspec": {
   "display_name": "Python 3",
   "language": "python",
   "name": "python3"
  },
  "language_info": {
   "codemirror_mode": {
    "name": "ipython",
    "version": 3
   },
   "file_extension": ".py",
   "mimetype": "text/x-python",
   "name": "python",
   "nbconvert_exporter": "python",
   "pygments_lexer": "ipython3",
   "version": "3.8.5"
  },
  "toc": {
   "base_numbering": 1,
   "nav_menu": {},
   "number_sections": true,
   "sideBar": true,
   "skip_h1_title": false,
   "title_cell": "Table of Contents",
   "title_sidebar": "Contents",
   "toc_cell": false,
   "toc_position": {},
   "toc_section_display": true,
   "toc_window_display": false
  }
 },
 "nbformat": 4,
 "nbformat_minor": 4
}
