{
 "cells": [
  {
   "cell_type": "code",
   "execution_count": 107,
   "metadata": {},
   "outputs": [],
   "source": [
    "#!jt -l\n",
    "#!jt -t gruvboxl"
   ]
  },
  {
   "cell_type": "markdown",
   "metadata": {},
   "source": [
    "# Abstract"
   ]
  },
  {
   "cell_type": "markdown",
   "metadata": {},
   "source": [
    "This is a \"quick look\" test report that determines the capacity of batteries under repetitive charge and discharge cycles (CC/CV). This report reads the test files from the Data folder and performs some EDA on the data. "
   ]
  },
  {
   "cell_type": "code",
   "execution_count": 108,
   "metadata": {
    "scrolled": true
   },
   "outputs": [],
   "source": [
    "# Bring in the needed libraries\n",
    "import numpy as np\n",
    "import pandas as pd\n",
    "import matplotlib.pyplot as plt\n",
    "#plt.style.use('dark_background')\n",
    "plt.style.use('ggplot')\n",
    "import matplotlib\n",
    "import seaborn as sns\n",
    "import glob\n",
    "import re\n",
    "from matplotlib import ticker\n",
    "from matplotlib.ticker import PercentFormatter\n",
    "%matplotlib inline\n",
    "matplotlib.rcParams['figure.figsize'] = (6, 4)"
   ]
  },
  {
   "cell_type": "markdown",
   "metadata": {},
   "source": [
    "## Data Cleaning Routine\n",
    "\n",
    "The files need to be cleaned prior to analyzing. The following routine cleans up the files. The cleanup actions are routine:\n",
    "\n",
    "* The data was grabbed for me by another engineer. \n",
    "* In general, the files contain multiple charge/discharge cycles. I have selected the third cycle (c == 3). I could average the cycles, but they are generally so similar that it is not worth it.\n",
    "* Each charge/discharge cycle contains multiple stages. Stage 4 is the discharge cycle.\n",
    "\n",
    "For a reason unknown to me, the CV=4.15V data had a different output format. So I wrote two different cleaning routine. I distinguished the files by call the CV=4.15 data \"csv\" and the others \"txt\".\n"
   ]
  },
  {
   "cell_type": "markdown",
   "metadata": {},
   "source": [
    "### Clean CSV Files\n",
    "\n",
    "While I call these CSV files, they actually are tab separated just like the other files. I gave them this name so that I could distinguish their format from the others. I wish I knew why the format was different, but it was. The key format difference is that the step time is in minutes rather than encoded in a string."
   ]
  },
  {
   "cell_type": "code",
   "execution_count": 109,
   "metadata": {
    "scrolled": true
   },
   "outputs": [],
   "source": [
    "def batTweak1(file):\n",
    "    return (\n",
    "        pd.read_csv(file, sep=\"\\t\",skiprows=4, header=0,usecols=[\"Cyc#\",\"Step\",\"StepTime\",\"Amps\",\"Volts\"])\n",
    "        .rename({\"Volts\":\"v\",\"Cyc#\":\"c\",\"StepTime\":\"t\"}, axis=1)\n",
    "        .query(\"c == 2 &  Step==5\")\n",
    "        .drop([\"Step\",\"Amps\",\"c\"],axis=1)\n",
    "        .assign(q = lambda x: x.t*0.5/60,\n",
    "                t = lambda x: x.t/60)\n",
    "    )"
   ]
  },
  {
   "cell_type": "markdown",
   "metadata": {},
   "source": [
    "### Clean TXT Files\n",
    "\n",
    "These are tab separated files that have step time encoded as an odd-ball date/time string."
   ]
  },
  {
   "cell_type": "code",
   "execution_count": 110,
   "metadata": {
    "scrolled": true
   },
   "outputs": [],
   "source": [
    "def batTweak(file):\n",
    "    return (\n",
    "        pd.read_csv(file, sep=\"\\t\",skiprows=4, header=0,usecols=[\"Cyc#\",\"Step\",\"StepTime\",\"Amps\",\"Volts\"])\n",
    "        .rename({\"Volts\":\"v\",\"Cyc#\":\"c\"}, axis=1)\n",
    "        .assign(days = lambda x: x.StepTime.str.extract(\"(.+?)d\"),\n",
    "                hours= lambda x: x.StepTime.str.extract(\"(?<=d)(.*)\"))\n",
    "        .assign(h =    lambda x: x.hours.str.extract(\"(\\d*)(?=:)\"),\n",
    "                m =    lambda x: x.hours.str.extract(\"(?<=:)(\\d*)\"),\n",
    "                s =    lambda x: x.hours.str.extract(\"(?<=:\\d\\d:)(.*)\"))\n",
    "        .drop([\"hours\",\"StepTime\",\"hours\"],axis=1)\n",
    "        .astype({\"days\":\"float64\",\"h\":\"float64\",\"m\":\"float64\",\"s\":\"float64\"})\n",
    "        .assign(t = lambda x: x.days*1440+x.h*60+x.m+x.s/60)\n",
    "        .drop([\"h\",\"m\",\"s\",\"days\"],axis=1)\n",
    "        .query(\"c == 2 &  Step==5\")\n",
    "        .drop([\"Step\",\"Amps\",\"c\"],axis=1)\n",
    "        .assign(q = lambda x: x.t*0.5/60,\n",
    "                t = lambda x: x.t/60)\n",
    "    )"
   ]
  },
  {
   "cell_type": "markdown",
   "metadata": {},
   "source": [
    "## Read the TXT Files and Clean\n",
    "\n",
    "Here we iterate through all the TXT files."
   ]
  },
  {
   "cell_type": "code",
   "execution_count": 111,
   "metadata": {
    "code_folding": []
   },
   "outputs": [],
   "source": [
    "### Utility File Reader\n",
    "\n",
    "def file_getter(f,g):\n",
    "    z = pd.DataFrame() # Create an empty dataframe\n",
    "    for f in files:\n",
    "        df = g(f)\n",
    "        unit = re.search(\"(?<=_U)\\w{2}\",f).group(0)\n",
    "        model = re.search(\"(?<=_M)\\w{4}\",f).group(0)\n",
    "        fctr = re.search(\"(?<=_D)\\w{3}\",f).group(0)\n",
    "        df = df.assign(Unit = \"U\"+unit,\n",
    "                       Model= model,\n",
    "                       CV = fctr)\n",
    "        vc = int(fctr)/100\n",
    "        new_row = pd.DataFrame({'v':vc, 't':0, 'q':0,'Unit':'U'+unit,\"Model\":model,\"CV\":fctr}, index=[0])\n",
    "        df=pd.concat([new_row,df.loc[:]]).reset_index(drop=True)\n",
    "        z = pd.concat([z,df])\n",
    "    return z.reset_index(drop=True)\n",
    "    "
   ]
  },
  {
   "cell_type": "code",
   "execution_count": 112,
   "metadata": {
    "scrolled": false
   },
   "outputs": [
    {
     "name": "stdout",
     "output_type": "stream",
     "text": [
      "            v          t          q Unit Model   CV\n",
      "2651  4.30000   0.000000   0.000000  U01  Z02F  430\n",
      "2652  4.28771   0.000003   0.000001  U01  Z02F  430\n",
      "2653  4.27909   0.016669   0.008335  U01  Z02F  430\n",
      "2654  4.27703   0.033336   0.016668  U01  Z02F  430\n",
      "2655  4.27550   0.050003   0.025001  U01  Z02F  430\n",
      "...       ...        ...        ...  ...   ...  ...\n",
      "4071  3.13466  23.650003  11.825001  U01  Z02F  430\n",
      "4072  3.10544  23.666669  11.833335  U01  Z02F  430\n",
      "4073  3.07111  23.683336  11.841668  U01  Z02F  430\n",
      "4074  3.02876  23.700003  11.850001  U01  Z02F  430\n",
      "4075  3.00000  23.709322  11.854661  U01  Z02F  430\n",
      "\n",
      "[1425 rows x 6 columns]\n"
     ]
    }
   ],
   "source": [
    "files=glob.glob(\"./Z02_Test/*.txt\",recursive=False)\n",
    "z=file_getter(files,batTweak)\n",
    "print(z[(z['CV']=='430')&(z['Unit']=='U01')])\n",
    "files=glob.glob(\"./Z02_Test/*.csv\",recursive=False)\n",
    "z1=file_getter(files,batTweak1)\n",
    "z  = (pd.concat([z,z1])\n",
    "      .sort_values(by=['CV'])\n",
    "      .reset_index(drop=True)\n",
    "     )"
   ]
  },
  {
   "cell_type": "markdown",
   "metadata": {},
   "source": [
    "# Extract-Transform-Load\n",
    "\n",
    "Once cleaned, the data is in the correct format but needs to be augmented with information on the unit-under-test (UUT) and battery model info. This data can be extracted from the file name, which has the following format.\n",
    "<pre><code>\n",
    " (tester initials: 2 char)_U(unit number: 2 char)_M(model: 4 characters)_D(test description:any length, spaces=dashes)\n",
    "</code></pre>\n",
    "I do not like spaces in file names and I decided that topics are separated by underscores and spaces replaced with dashes. I can illustrate this format as follows:\n",
    "<pre><code>\n",
    "MB_U02_MZ22A_DLong-Test-4-1-CV-CH17.txt\n",
    "</code></pre>\n",
    "\n",
    "The file information tells us that:\n",
    "\n",
    "* Tester initials: MB\n",
    "* Unit Under Test: 02\n",
    "* Model Under Test: Z22A\n",
    "* Test Description: Long Test 4.1 CV Channel 17"
   ]
  },
  {
   "cell_type": "markdown",
   "metadata": {},
   "source": [
    "# Exploratory Data Analysis\n",
    "\n",
    "The capacity value and the State of Charge (SoC) curve are all derived from the discharge curve, which is what the Maccor battery tester measures. The discharge curve for all the parts is shown below."
   ]
  },
  {
   "cell_type": "code",
   "execution_count": 113,
   "metadata": {},
   "outputs": [
    {
     "name": "stdout",
     "output_type": "stream",
     "text": [
      "Index(['v', 't', 'q', 'Unit', 'Model', 'CV'], dtype='object')\n",
      "             v          t          q Unit Model   CV\n",
      "9114   4.30000   0.000000   0.000000  U03  Z02F  430\n",
      "9115   4.28519   0.000011   0.000006  U03  Z02F  430\n",
      "9116   4.28031   0.016678   0.008339  U03  Z02F  430\n",
      "9117   4.27810   0.033344   0.016672  U03  Z02F  430\n",
      "9118   4.27672   0.050011   0.025006  U03  Z02F  430\n",
      "...        ...        ...        ...  ...   ...  ...\n",
      "11278  3.13466  23.650003  11.825001  U01  Z02F  430\n",
      "11279  3.10544  23.666669  11.833335  U01  Z02F  430\n",
      "11280  3.07111  23.683336  11.841668  U01  Z02F  430\n",
      "11281  3.02876  23.700003  11.850001  U01  Z02F  430\n",
      "11282  3.00000  23.709322  11.854661  U01  Z02F  430\n",
      "\n",
      "[4297 rows x 6 columns]\n"
     ]
    }
   ],
   "source": [
    "print(z.columns)\n",
    "z.sort_values(by=[\"Unit\",\"v\"],ascending=False,inplace=True)\n",
    "print(z[z['CV']=='430'])"
   ]
  },
  {
   "cell_type": "code",
   "execution_count": 114,
   "metadata": {
    "scrolled": true
   },
   "outputs": [
    {
     "data": {
      "image/png": "[encoded data removed]",
      "text/plain": [
       "<Figure size 480x320 with 1 Axes>"
      ]
     },
     "metadata": {
      "needs_background": "light"
     },
     "output_type": "display_data"
    }
   ],
   "source": [
    "# View the Maccor Capacity Results\n",
    "z= z.assign(vTerm=z.CV)\n",
    "zz = z.groupby([\"Unit\",\"vTerm\"])\n",
    "\n",
    "# Plot the Discharge Curve\n",
    "\n",
    "from matplotlib.pyplot import figure\n",
    "figure(figsize=(6, 4), dpi=80)\n",
    "sns.set_style(\"darkgrid\")\n",
    "\n",
    "fig = sns.lineplot(\n",
    "            x='t', \n",
    "            y='v',\n",
    "            hue='vTerm',\n",
    "            style='Unit',\n",
    "            data=z)\n",
    "\n",
    "plt.xlabel(\"Time (hours)\")\n",
    "plt.ylabel(\"VBAT (V)\")\n",
    "plt.title(\"Z02FH Discharge Curve: vTERM to 3.0V\")\n",
    "plt.show(fig)"
   ]
  },
  {
   "cell_type": "markdown",
   "metadata": {},
   "source": [
    "# Battery Capacity - Vendor Voltage Range\n",
    "\n",
    "The battery capacities measured during this testing are computed below."
   ]
  },
  {
   "cell_type": "markdown",
   "metadata": {},
   "source": [
    "## Individual Battery Capacities"
   ]
  },
  {
   "cell_type": "code",
   "execution_count": 115,
   "metadata": {
    "scrolled": true
   },
   "outputs": [
    {
     "data": {
      "text/html": [
       "<div>\n",
       "<style scoped>\n",
       "    .dataframe tbody tr th:only-of-type {\n",
       "        vertical-align: middle;\n",
       "    }\n",
       "\n",
       "    .dataframe tbody tr th {\n",
       "        vertical-align: top;\n",
       "    }\n",
       "\n",
       "    .dataframe thead th {\n",
       "        text-align: right;\n",
       "    }\n",
       "</style>\n",
       "<table border=\"1\" class=\"dataframe\">\n",
       "  <thead>\n",
       "    <tr style=\"text-align: right;\">\n",
       "      <th></th>\n",
       "      <th></th>\n",
       "      <th>vTerm (V)</th>\n",
       "      <th>Time (hr)</th>\n",
       "      <th>Q (mAh)</th>\n",
       "      <th>Model</th>\n",
       "      <th>CV</th>\n",
       "    </tr>\n",
       "    <tr>\n",
       "      <th>vTerm</th>\n",
       "      <th>Unit</th>\n",
       "      <th></th>\n",
       "      <th></th>\n",
       "      <th></th>\n",
       "      <th></th>\n",
       "      <th></th>\n",
       "    </tr>\n",
       "  </thead>\n",
       "  <tbody>\n",
       "    <tr>\n",
       "      <th rowspan=\"3\" valign=\"top\">420</th>\n",
       "      <th>U01</th>\n",
       "      <td>4.20</td>\n",
       "      <td>21.51</td>\n",
       "      <td>10.76</td>\n",
       "      <td>Z02F</td>\n",
       "      <td>420</td>\n",
       "    </tr>\n",
       "    <tr>\n",
       "      <th>U02</th>\n",
       "      <td>4.20</td>\n",
       "      <td>21.56</td>\n",
       "      <td>10.78</td>\n",
       "      <td>Z02F</td>\n",
       "      <td>420</td>\n",
       "    </tr>\n",
       "    <tr>\n",
       "      <th>U03</th>\n",
       "      <td>4.20</td>\n",
       "      <td>21.74</td>\n",
       "      <td>10.87</td>\n",
       "      <td>Z02F</td>\n",
       "      <td>420</td>\n",
       "    </tr>\n",
       "    <tr>\n",
       "      <th rowspan=\"3\" valign=\"top\">425</th>\n",
       "      <th>U01</th>\n",
       "      <td>4.25</td>\n",
       "      <td>22.59</td>\n",
       "      <td>11.30</td>\n",
       "      <td>Z02F</td>\n",
       "      <td>425</td>\n",
       "    </tr>\n",
       "    <tr>\n",
       "      <th>U02</th>\n",
       "      <td>4.25</td>\n",
       "      <td>22.65</td>\n",
       "      <td>11.32</td>\n",
       "      <td>Z02F</td>\n",
       "      <td>425</td>\n",
       "    </tr>\n",
       "    <tr>\n",
       "      <th>U03</th>\n",
       "      <td>4.25</td>\n",
       "      <td>22.86</td>\n",
       "      <td>11.43</td>\n",
       "      <td>Z02F</td>\n",
       "      <td>425</td>\n",
       "    </tr>\n",
       "    <tr>\n",
       "      <th rowspan=\"3\" valign=\"top\">430</th>\n",
       "      <th>U01</th>\n",
       "      <td>4.30</td>\n",
       "      <td>23.71</td>\n",
       "      <td>11.85</td>\n",
       "      <td>Z02F</td>\n",
       "      <td>430</td>\n",
       "    </tr>\n",
       "    <tr>\n",
       "      <th>U02</th>\n",
       "      <td>4.30</td>\n",
       "      <td>23.78</td>\n",
       "      <td>11.89</td>\n",
       "      <td>Z02F</td>\n",
       "      <td>430</td>\n",
       "    </tr>\n",
       "    <tr>\n",
       "      <th>U03</th>\n",
       "      <td>4.30</td>\n",
       "      <td>23.99</td>\n",
       "      <td>11.99</td>\n",
       "      <td>Z02F</td>\n",
       "      <td>430</td>\n",
       "    </tr>\n",
       "    <tr>\n",
       "      <th rowspan=\"3\" valign=\"top\">435</th>\n",
       "      <th>U01</th>\n",
       "      <td>4.35</td>\n",
       "      <td>24.76</td>\n",
       "      <td>12.38</td>\n",
       "      <td>Z02F</td>\n",
       "      <td>435</td>\n",
       "    </tr>\n",
       "    <tr>\n",
       "      <th>U02</th>\n",
       "      <td>4.35</td>\n",
       "      <td>24.87</td>\n",
       "      <td>12.43</td>\n",
       "      <td>Z02F</td>\n",
       "      <td>435</td>\n",
       "    </tr>\n",
       "    <tr>\n",
       "      <th>U03</th>\n",
       "      <td>4.35</td>\n",
       "      <td>25.09</td>\n",
       "      <td>12.54</td>\n",
       "      <td>Z02F</td>\n",
       "      <td>435</td>\n",
       "    </tr>\n",
       "    <tr>\n",
       "      <th rowspan=\"3\" valign=\"top\">440</th>\n",
       "      <th>U01</th>\n",
       "      <td>4.40</td>\n",
       "      <td>26.24</td>\n",
       "      <td>13.12</td>\n",
       "      <td>Z02F</td>\n",
       "      <td>440</td>\n",
       "    </tr>\n",
       "    <tr>\n",
       "      <th>U02</th>\n",
       "      <td>4.40</td>\n",
       "      <td>26.29</td>\n",
       "      <td>13.15</td>\n",
       "      <td>Z02F</td>\n",
       "      <td>440</td>\n",
       "    </tr>\n",
       "    <tr>\n",
       "      <th>U03</th>\n",
       "      <td>4.40</td>\n",
       "      <td>26.49</td>\n",
       "      <td>13.25</td>\n",
       "      <td>Z02F</td>\n",
       "      <td>440</td>\n",
       "    </tr>\n",
       "  </tbody>\n",
       "</table>\n",
       "</div>"
      ],
      "text/plain": [
       "            vTerm (V)  Time (hr)  Q (mAh) Model   CV\n",
       "vTerm Unit                                          \n",
       "420   U01        4.20      21.51    10.76  Z02F  420\n",
       "      U02        4.20      21.56    10.78  Z02F  420\n",
       "      U03        4.20      21.74    10.87  Z02F  420\n",
       "425   U01        4.25      22.59    11.30  Z02F  425\n",
       "      U02        4.25      22.65    11.32  Z02F  425\n",
       "      U03        4.25      22.86    11.43  Z02F  425\n",
       "430   U01        4.30      23.71    11.85  Z02F  430\n",
       "      U02        4.30      23.78    11.89  Z02F  430\n",
       "      U03        4.30      23.99    11.99  Z02F  430\n",
       "435   U01        4.35      24.76    12.38  Z02F  435\n",
       "      U02        4.35      24.87    12.43  Z02F  435\n",
       "      U03        4.35      25.09    12.54  Z02F  435\n",
       "440   U01        4.40      26.24    13.12  Z02F  440\n",
       "      U02        4.40      26.29    13.15  Z02F  440\n",
       "      U03        4.40      26.49    13.25  Z02F  440"
      ]
     },
     "metadata": {},
     "output_type": "display_data"
    }
   ],
   "source": [
    "g1 = np.round(z.groupby( [\"vTerm\",\"Unit\"] ).max(),2)\n",
    "g1 = g1.rename(columns={'v': 'vTerm (V)', 't': 'Time (hr)',\"q\":\"Q (mAh)\"})\n",
    "display(g1)"
   ]
  },
  {
   "cell_type": "code",
   "execution_count": 116,
   "metadata": {
    "scrolled": false
   },
   "outputs": [
    {
     "data": {
      "text/html": [
       "<style type=\"text/css\">\n",
       "#T_3662a_ thead {\n",
       "  background-color: tan;\n",
       "  border-bottom: double;\n",
       "}\n",
       "#T_3662a_ tbody tr:nth-child(even) {\n",
       "  background-color: navajowhite;\n",
       "}\n",
       "#T_3662a_ th.row_heading {\n",
       "  background-color: beige;\n",
       "}\n",
       "#T_3662a_ td {\n",
       "  border: white;\n",
       "}\n",
       "</style>\n",
       "<table id=\"T_3662a_\">\n",
       "  <thead>\n",
       "    <tr>\n",
       "      <th class=\"blank\" >&nbsp;</th>\n",
       "      <th class=\"blank level0\" >&nbsp;</th>\n",
       "      <th class=\"col_heading level0 col0\" >vTerm (V)</th>\n",
       "      <th class=\"col_heading level0 col1\" >Time (hr)</th>\n",
       "      <th class=\"col_heading level0 col2\" >Q (mAh)</th>\n",
       "      <th class=\"col_heading level0 col3\" >Model</th>\n",
       "      <th class=\"col_heading level0 col4\" >CV</th>\n",
       "    </tr>\n",
       "    <tr>\n",
       "      <th class=\"index_name level0\" >vTerm</th>\n",
       "      <th class=\"index_name level1\" >Unit</th>\n",
       "      <th class=\"blank col0\" >&nbsp;</th>\n",
       "      <th class=\"blank col1\" >&nbsp;</th>\n",
       "      <th class=\"blank col2\" >&nbsp;</th>\n",
       "      <th class=\"blank col3\" >&nbsp;</th>\n",
       "      <th class=\"blank col4\" >&nbsp;</th>\n",
       "    </tr>\n",
       "  </thead>\n",
       "  <tbody>\n",
       "    <tr>\n",
       "      <th id=\"T_3662a_level0_row0\" class=\"row_heading level0 row0\" rowspan=\"3\">420</th>\n",
       "      <th id=\"T_3662a_level1_row0\" class=\"row_heading level1 row0\" >U01</th>\n",
       "      <td id=\"T_3662a_row0_col0\" class=\"data row0 col0\" >4.20</td>\n",
       "      <td id=\"T_3662a_row0_col1\" class=\"data row0 col1\" >21.51</td>\n",
       "      <td id=\"T_3662a_row0_col2\" class=\"data row0 col2\" >10.76</td>\n",
       "      <td id=\"T_3662a_row0_col3\" class=\"data row0 col3\" >Z02F</td>\n",
       "      <td id=\"T_3662a_row0_col4\" class=\"data row0 col4\" >420</td>\n",
       "    </tr>\n",
       "    <tr>\n",
       "      <th id=\"T_3662a_level1_row1\" class=\"row_heading level1 row1\" >U02</th>\n",
       "      <td id=\"T_3662a_row1_col0\" class=\"data row1 col0\" >4.20</td>\n",
       "      <td id=\"T_3662a_row1_col1\" class=\"data row1 col1\" >21.56</td>\n",
       "      <td id=\"T_3662a_row1_col2\" class=\"data row1 col2\" >10.78</td>\n",
       "      <td id=\"T_3662a_row1_col3\" class=\"data row1 col3\" >Z02F</td>\n",
       "      <td id=\"T_3662a_row1_col4\" class=\"data row1 col4\" >420</td>\n",
       "    </tr>\n",
       "    <tr>\n",
       "      <th id=\"T_3662a_level1_row2\" class=\"row_heading level1 row2\" >U03</th>\n",
       "      <td id=\"T_3662a_row2_col0\" class=\"data row2 col0\" >4.20</td>\n",
       "      <td id=\"T_3662a_row2_col1\" class=\"data row2 col1\" >21.74</td>\n",
       "      <td id=\"T_3662a_row2_col2\" class=\"data row2 col2\" >10.87</td>\n",
       "      <td id=\"T_3662a_row2_col3\" class=\"data row2 col3\" >Z02F</td>\n",
       "      <td id=\"T_3662a_row2_col4\" class=\"data row2 col4\" >420</td>\n",
       "    </tr>\n",
       "    <tr>\n",
       "      <th id=\"T_3662a_level0_row3\" class=\"row_heading level0 row3\" rowspan=\"3\">425</th>\n",
       "      <th id=\"T_3662a_level1_row3\" class=\"row_heading level1 row3\" >U01</th>\n",
       "      <td id=\"T_3662a_row3_col0\" class=\"data row3 col0\" >4.25</td>\n",
       "      <td id=\"T_3662a_row3_col1\" class=\"data row3 col1\" >22.59</td>\n",
       "      <td id=\"T_3662a_row3_col2\" class=\"data row3 col2\" >11.30</td>\n",
       "      <td id=\"T_3662a_row3_col3\" class=\"data row3 col3\" >Z02F</td>\n",
       "      <td id=\"T_3662a_row3_col4\" class=\"data row3 col4\" >425</td>\n",
       "    </tr>\n",
       "    <tr>\n",
       "      <th id=\"T_3662a_level1_row4\" class=\"row_heading level1 row4\" >U02</th>\n",
       "      <td id=\"T_3662a_row4_col0\" class=\"data row4 col0\" >4.25</td>\n",
       "      <td id=\"T_3662a_row4_col1\" class=\"data row4 col1\" >22.65</td>\n",
       "      <td id=\"T_3662a_row4_col2\" class=\"data row4 col2\" >11.32</td>\n",
       "      <td id=\"T_3662a_row4_col3\" class=\"data row4 col3\" >Z02F</td>\n",
       "      <td id=\"T_3662a_row4_col4\" class=\"data row4 col4\" >425</td>\n",
       "    </tr>\n",
       "    <tr>\n",
       "      <th id=\"T_3662a_level1_row5\" class=\"row_heading level1 row5\" >U03</th>\n",
       "      <td id=\"T_3662a_row5_col0\" class=\"data row5 col0\" >4.25</td>\n",
       "      <td id=\"T_3662a_row5_col1\" class=\"data row5 col1\" >22.86</td>\n",
       "      <td id=\"T_3662a_row5_col2\" class=\"data row5 col2\" >11.43</td>\n",
       "      <td id=\"T_3662a_row5_col3\" class=\"data row5 col3\" >Z02F</td>\n",
       "      <td id=\"T_3662a_row5_col4\" class=\"data row5 col4\" >425</td>\n",
       "    </tr>\n",
       "    <tr>\n",
       "      <th id=\"T_3662a_level0_row6\" class=\"row_heading level0 row6\" rowspan=\"3\">430</th>\n",
       "      <th id=\"T_3662a_level1_row6\" class=\"row_heading level1 row6\" >U01</th>\n",
       "      <td id=\"T_3662a_row6_col0\" class=\"data row6 col0\" >4.30</td>\n",
       "      <td id=\"T_3662a_row6_col1\" class=\"data row6 col1\" >23.71</td>\n",
       "      <td id=\"T_3662a_row6_col2\" class=\"data row6 col2\" >11.85</td>\n",
       "      <td id=\"T_3662a_row6_col3\" class=\"data row6 col3\" >Z02F</td>\n",
       "      <td id=\"T_3662a_row6_col4\" class=\"data row6 col4\" >430</td>\n",
       "    </tr>\n",
       "    <tr>\n",
       "      <th id=\"T_3662a_level1_row7\" class=\"row_heading level1 row7\" >U02</th>\n",
       "      <td id=\"T_3662a_row7_col0\" class=\"data row7 col0\" >4.30</td>\n",
       "      <td id=\"T_3662a_row7_col1\" class=\"data row7 col1\" >23.78</td>\n",
       "      <td id=\"T_3662a_row7_col2\" class=\"data row7 col2\" >11.89</td>\n",
       "      <td id=\"T_3662a_row7_col3\" class=\"data row7 col3\" >Z02F</td>\n",
       "      <td id=\"T_3662a_row7_col4\" class=\"data row7 col4\" >430</td>\n",
       "    </tr>\n",
       "    <tr>\n",
       "      <th id=\"T_3662a_level1_row8\" class=\"row_heading level1 row8\" >U03</th>\n",
       "      <td id=\"T_3662a_row8_col0\" class=\"data row8 col0\" >4.30</td>\n",
       "      <td id=\"T_3662a_row8_col1\" class=\"data row8 col1\" >23.99</td>\n",
       "      <td id=\"T_3662a_row8_col2\" class=\"data row8 col2\" >11.99</td>\n",
       "      <td id=\"T_3662a_row8_col3\" class=\"data row8 col3\" >Z02F</td>\n",
       "      <td id=\"T_3662a_row8_col4\" class=\"data row8 col4\" >430</td>\n",
       "    </tr>\n",
       "    <tr>\n",
       "      <th id=\"T_3662a_level0_row9\" class=\"row_heading level0 row9\" rowspan=\"3\">435</th>\n",
       "      <th id=\"T_3662a_level1_row9\" class=\"row_heading level1 row9\" >U01</th>\n",
       "      <td id=\"T_3662a_row9_col0\" class=\"data row9 col0\" >4.35</td>\n",
       "      <td id=\"T_3662a_row9_col1\" class=\"data row9 col1\" >24.76</td>\n",
       "      <td id=\"T_3662a_row9_col2\" class=\"data row9 col2\" >12.38</td>\n",
       "      <td id=\"T_3662a_row9_col3\" class=\"data row9 col3\" >Z02F</td>\n",
       "      <td id=\"T_3662a_row9_col4\" class=\"data row9 col4\" >435</td>\n",
       "    </tr>\n",
       "    <tr>\n",
       "      <th id=\"T_3662a_level1_row10\" class=\"row_heading level1 row10\" >U02</th>\n",
       "      <td id=\"T_3662a_row10_col0\" class=\"data row10 col0\" >4.35</td>\n",
       "      <td id=\"T_3662a_row10_col1\" class=\"data row10 col1\" >24.87</td>\n",
       "      <td id=\"T_3662a_row10_col2\" class=\"data row10 col2\" >12.43</td>\n",
       "      <td id=\"T_3662a_row10_col3\" class=\"data row10 col3\" >Z02F</td>\n",
       "      <td id=\"T_3662a_row10_col4\" class=\"data row10 col4\" >435</td>\n",
       "    </tr>\n",
       "    <tr>\n",
       "      <th id=\"T_3662a_level1_row11\" class=\"row_heading level1 row11\" >U03</th>\n",
       "      <td id=\"T_3662a_row11_col0\" class=\"data row11 col0\" >4.35</td>\n",
       "      <td id=\"T_3662a_row11_col1\" class=\"data row11 col1\" >25.09</td>\n",
       "      <td id=\"T_3662a_row11_col2\" class=\"data row11 col2\" >12.54</td>\n",
       "      <td id=\"T_3662a_row11_col3\" class=\"data row11 col3\" >Z02F</td>\n",
       "      <td id=\"T_3662a_row11_col4\" class=\"data row11 col4\" >435</td>\n",
       "    </tr>\n",
       "    <tr>\n",
       "      <th id=\"T_3662a_level0_row12\" class=\"row_heading level0 row12\" rowspan=\"3\">440</th>\n",
       "      <th id=\"T_3662a_level1_row12\" class=\"row_heading level1 row12\" >U01</th>\n",
       "      <td id=\"T_3662a_row12_col0\" class=\"data row12 col0\" >4.40</td>\n",
       "      <td id=\"T_3662a_row12_col1\" class=\"data row12 col1\" >26.24</td>\n",
       "      <td id=\"T_3662a_row12_col2\" class=\"data row12 col2\" >13.12</td>\n",
       "      <td id=\"T_3662a_row12_col3\" class=\"data row12 col3\" >Z02F</td>\n",
       "      <td id=\"T_3662a_row12_col4\" class=\"data row12 col4\" >440</td>\n",
       "    </tr>\n",
       "    <tr>\n",
       "      <th id=\"T_3662a_level1_row13\" class=\"row_heading level1 row13\" >U02</th>\n",
       "      <td id=\"T_3662a_row13_col0\" class=\"data row13 col0\" >4.40</td>\n",
       "      <td id=\"T_3662a_row13_col1\" class=\"data row13 col1\" >26.29</td>\n",
       "      <td id=\"T_3662a_row13_col2\" class=\"data row13 col2\" >13.15</td>\n",
       "      <td id=\"T_3662a_row13_col3\" class=\"data row13 col3\" >Z02F</td>\n",
       "      <td id=\"T_3662a_row13_col4\" class=\"data row13 col4\" >440</td>\n",
       "    </tr>\n",
       "    <tr>\n",
       "      <th id=\"T_3662a_level1_row14\" class=\"row_heading level1 row14\" >U03</th>\n",
       "      <td id=\"T_3662a_row14_col0\" class=\"data row14 col0\" >4.40</td>\n",
       "      <td id=\"T_3662a_row14_col1\" class=\"data row14 col1\" >26.49</td>\n",
       "      <td id=\"T_3662a_row14_col2\" class=\"data row14 col2\" >13.25</td>\n",
       "      <td id=\"T_3662a_row14_col3\" class=\"data row14 col3\" >Z02F</td>\n",
       "      <td id=\"T_3662a_row14_col4\" class=\"data row14 col4\" >440</td>\n",
       "    </tr>\n",
       "  </tbody>\n",
       "</table>\n"
      ],
      "text/plain": [
       "<pandas.io.formats.style.Styler at 0x15115134850>"
      ]
     },
     "metadata": {},
     "output_type": "display_data"
    }
   ],
   "source": [
    "\n",
    "# https://stackoverflow.com/questions/53062000/how-to-set-the-precision-for-the-output-of-the-pandas-dataframe-loc-in-a-jupyter\n",
    "# https://stackoverflow.com/questions/42576491/python3-pandas-styles-change-alternate-row-color\n",
    "# I have not been able to set the precision for each column independently\n",
    "\n",
    "def dfdark(styler):\n",
    "    #styler.background_gradient(cmap='coolwarm')\n",
    "    #styler.color('white')\n",
    "    styler.set_table_styles([\n",
    "        {\n",
    "            \"selector\":\"thead\",\n",
    "            \"props\":[(\"background-color\",\"tan\"),(\"border-bottom\",\"double\")]\n",
    "        },\n",
    "        {\n",
    "            \"selector\":\"tbody tr:nth-child(even)\",\n",
    "            \"props\":[(\"background-color\",\"navajowhite\")]\n",
    "        },\n",
    "        {\n",
    "            \"selector\":\"th.row_heading\",\n",
    "            \"props\":[(\"background-color\",\"beige\")]\n",
    "        },\n",
    "        {\n",
    "            \"selector\":\"td\",\n",
    "            \"props\":[(\"border\",\"white\")]\n",
    "        }\n",
    "    ])\n",
    "    return styler\n",
    "\n",
    "with pd.option_context('display.precision', 2):\n",
    "     style = g1.style.pipe(dfdark)\n",
    "display(style)"
   ]
  },
  {
   "cell_type": "markdown",
   "metadata": {},
   "source": [
    "## Aggregated Results\n",
    "\n",
    "The means of the measured values can be computed as follows."
   ]
  },
  {
   "cell_type": "code",
   "execution_count": 117,
   "metadata": {},
   "outputs": [
    {
     "data": {
      "text/html": [
       "<style type=\"text/css\">\n",
       "#T_3ae9f_ thead {\n",
       "  background-color: tan;\n",
       "  border-bottom: double;\n",
       "}\n",
       "#T_3ae9f_ tbody tr:nth-child(even) {\n",
       "  background-color: navajowhite;\n",
       "}\n",
       "#T_3ae9f_ th.row_heading {\n",
       "  background-color: beige;\n",
       "}\n",
       "#T_3ae9f_ td {\n",
       "  border: white;\n",
       "}\n",
       "</style>\n",
       "<table id=\"T_3ae9f_\">\n",
       "  <thead>\n",
       "    <tr>\n",
       "      <th class=\"blank level0\" >&nbsp;</th>\n",
       "      <th class=\"col_heading level0 col0\" >Time (h)</th>\n",
       "      <th class=\"col_heading level0 col1\" >Charge (mAh)</th>\n",
       "    </tr>\n",
       "    <tr>\n",
       "      <th class=\"index_name level0\" >Voltage</th>\n",
       "      <th class=\"blank col0\" >&nbsp;</th>\n",
       "      <th class=\"blank col1\" >&nbsp;</th>\n",
       "    </tr>\n",
       "  </thead>\n",
       "  <tbody>\n",
       "    <tr>\n",
       "      <th id=\"T_3ae9f_level0_row0\" class=\"row_heading level0 row0\" >4.2</th>\n",
       "      <td id=\"T_3ae9f_row0_col0\" class=\"data row0 col0\" >21.60</td>\n",
       "      <td id=\"T_3ae9f_row0_col1\" class=\"data row0 col1\" >10.80</td>\n",
       "    </tr>\n",
       "    <tr>\n",
       "      <th id=\"T_3ae9f_level0_row1\" class=\"row_heading level0 row1\" >4.25</th>\n",
       "      <td id=\"T_3ae9f_row1_col0\" class=\"data row1 col0\" >22.70</td>\n",
       "      <td id=\"T_3ae9f_row1_col1\" class=\"data row1 col1\" >11.35</td>\n",
       "    </tr>\n",
       "    <tr>\n",
       "      <th id=\"T_3ae9f_level0_row2\" class=\"row_heading level0 row2\" >4.3</th>\n",
       "      <td id=\"T_3ae9f_row2_col0\" class=\"data row2 col0\" >23.83</td>\n",
       "      <td id=\"T_3ae9f_row2_col1\" class=\"data row2 col1\" >11.91</td>\n",
       "    </tr>\n",
       "    <tr>\n",
       "      <th id=\"T_3ae9f_level0_row3\" class=\"row_heading level0 row3\" >4.35</th>\n",
       "      <td id=\"T_3ae9f_row3_col0\" class=\"data row3 col0\" >24.91</td>\n",
       "      <td id=\"T_3ae9f_row3_col1\" class=\"data row3 col1\" >12.45</td>\n",
       "    </tr>\n",
       "    <tr>\n",
       "      <th id=\"T_3ae9f_level0_row4\" class=\"row_heading level0 row4\" >4.4</th>\n",
       "      <td id=\"T_3ae9f_row4_col0\" class=\"data row4 col0\" >26.34</td>\n",
       "      <td id=\"T_3ae9f_row4_col1\" class=\"data row4 col1\" >13.17</td>\n",
       "    </tr>\n",
       "  </tbody>\n",
       "</table>\n"
      ],
      "text/plain": [
       "<pandas.io.formats.style.Styler at 0x15114bb8760>"
      ]
     },
     "execution_count": 117,
     "metadata": {},
     "output_type": "execute_result"
    }
   ],
   "source": [
    "g1 = z.groupby( [\"vTerm\",\"Unit\"] ).max()\n",
    "gzz= (g1.groupby(['vTerm'])\n",
    "      .mean([\"t\",\"q\"])\n",
    "      .set_index(\"v\", drop=True)\n",
    "      .rename(columns={\"t\":\"Time (h)\",\"q\":\"Charge (mAh)\"})\n",
    "      .rename_axis(\"Voltage\", axis=0)\n",
    "     )\n",
    "\n",
    "with pd.option_context('display.precision', 2):\n",
    "    style = gzz.style.pipe(dfdark)\n",
    "style\n"
   ]
  },
  {
   "cell_type": "markdown",
   "metadata": {},
   "source": [
    "## Pivot Table Form\n",
    "\n",
    "You can generate the same result using a pivot table. I just use this here as a cross-check."
   ]
  },
  {
   "cell_type": "code",
   "execution_count": 118,
   "metadata": {},
   "outputs": [
    {
     "data": {
      "text/html": [
       "<style type=\"text/css\">\n",
       "#T_f29a3_ thead {\n",
       "  background-color: tan;\n",
       "  border-bottom: double;\n",
       "}\n",
       "#T_f29a3_ tbody tr:nth-child(even) {\n",
       "  background-color: navajowhite;\n",
       "}\n",
       "#T_f29a3_ th.row_heading {\n",
       "  background-color: beige;\n",
       "}\n",
       "#T_f29a3_ td {\n",
       "  border: white;\n",
       "}\n",
       "</style>\n",
       "<table id=\"T_f29a3_\">\n",
       "  <thead>\n",
       "    <tr>\n",
       "      <th class=\"blank level0\" >&nbsp;</th>\n",
       "      <th class=\"col_heading level0 col0\" >Charge (mAh)</th>\n",
       "      <th class=\"col_heading level0 col1\" >Time (h)</th>\n",
       "    </tr>\n",
       "    <tr>\n",
       "      <th class=\"index_name level0\" >Termination Voltage</th>\n",
       "      <th class=\"blank col0\" >&nbsp;</th>\n",
       "      <th class=\"blank col1\" >&nbsp;</th>\n",
       "    </tr>\n",
       "  </thead>\n",
       "  <tbody>\n",
       "    <tr>\n",
       "      <th id=\"T_f29a3_level0_row0\" class=\"row_heading level0 row0\" >4.2</th>\n",
       "      <td id=\"T_f29a3_row0_col0\" class=\"data row0 col0\" >10.80</td>\n",
       "      <td id=\"T_f29a3_row0_col1\" class=\"data row0 col1\" >21.60</td>\n",
       "    </tr>\n",
       "    <tr>\n",
       "      <th id=\"T_f29a3_level0_row1\" class=\"row_heading level0 row1\" >4.25</th>\n",
       "      <td id=\"T_f29a3_row1_col0\" class=\"data row1 col0\" >11.35</td>\n",
       "      <td id=\"T_f29a3_row1_col1\" class=\"data row1 col1\" >22.70</td>\n",
       "    </tr>\n",
       "    <tr>\n",
       "      <th id=\"T_f29a3_level0_row2\" class=\"row_heading level0 row2\" >4.3</th>\n",
       "      <td id=\"T_f29a3_row2_col0\" class=\"data row2 col0\" >11.91</td>\n",
       "      <td id=\"T_f29a3_row2_col1\" class=\"data row2 col1\" >23.83</td>\n",
       "    </tr>\n",
       "    <tr>\n",
       "      <th id=\"T_f29a3_level0_row3\" class=\"row_heading level0 row3\" >4.35</th>\n",
       "      <td id=\"T_f29a3_row3_col0\" class=\"data row3 col0\" >12.45</td>\n",
       "      <td id=\"T_f29a3_row3_col1\" class=\"data row3 col1\" >24.91</td>\n",
       "    </tr>\n",
       "    <tr>\n",
       "      <th id=\"T_f29a3_level0_row4\" class=\"row_heading level0 row4\" >4.4</th>\n",
       "      <td id=\"T_f29a3_row4_col0\" class=\"data row4 col0\" >13.17</td>\n",
       "      <td id=\"T_f29a3_row4_col1\" class=\"data row4 col1\" >26.34</td>\n",
       "    </tr>\n",
       "  </tbody>\n",
       "</table>\n"
      ],
      "text/plain": [
       "<pandas.io.formats.style.Styler at 0x15111e04e80>"
      ]
     },
     "execution_count": 118,
     "metadata": {},
     "output_type": "execute_result"
    }
   ],
   "source": [
    "g2=(g1\n",
    "    .pivot_table(values=['t','q'],index=[\"CV\"],aggfunc=np.mean)\n",
    "    .rename(columns={\"q\":\"Charge (mAh)\",\"t\":\"Time (h)\"}, \\\n",
    "            index =  {'420':4.20,'430':4.30,'435':4.35,'425':4.25,'440':4.40})\n",
    "    .rename_axis('Termination Voltage')\n",
    "   )\n",
    "\n",
    "with pd.option_context('display.precision', 2):\n",
    "    style = g2.style.pipe(dfdark)\n",
    "style\n"
   ]
  },
  {
   "cell_type": "code",
   "execution_count": 119,
   "metadata": {},
   "outputs": [
    {
     "data": {
      "image/png": "[encoded data removed]",
      "text/plain": [
       "<Figure size 432x288 with 1 Axes>"
      ]
     },
     "metadata": {},
     "output_type": "display_data"
    }
   ],
   "source": [
    "plt.figure(figsize=(6,4))\n",
    "g2['x']=g2.index\n",
    "sns.lineplot(x = 'x', y = 'Charge (mAh)', color='green',data = g2)\n",
    "sns.scatterplot(x = 'x', y = 'Charge (mAh)', data = g2, s =200, marker='^',color='red')\n",
    "plt.title(\"Capacity versus Termination Voltage\")\n",
    "plt.xlabel(\"Termination Voltage (V)\")\n",
    "plt.ylabel(\"Capacity (mAh)\")\n",
    "plt.title(\"Z02FH SOC Curve\")\n",
    "None"
   ]
  },
  {
   "cell_type": "markdown",
   "metadata": {},
   "source": [
    "# Battery Capacity - Starkey Voltage Range"
   ]
  },
  {
   "cell_type": "code",
   "execution_count": 120,
   "metadata": {
    "scrolled": true
   },
   "outputs": [
    {
     "data": {
      "text/html": [
       "<style type=\"text/css\">\n",
       "#T_a2d07_ thead {\n",
       "  background-color: tan;\n",
       "  border-bottom: double;\n",
       "}\n",
       "#T_a2d07_ tbody tr:nth-child(even) {\n",
       "  background-color: navajowhite;\n",
       "}\n",
       "#T_a2d07_ th.row_heading {\n",
       "  background-color: beige;\n",
       "}\n",
       "#T_a2d07_ td {\n",
       "  border: white;\n",
       "}\n",
       "</style>\n",
       "<table id=\"T_a2d07_\">\n",
       "  <thead>\n",
       "    <tr>\n",
       "      <th class=\"blank level0\" >&nbsp;</th>\n",
       "      <th class=\"col_heading level0 col0\" >Charge (mAh)</th>\n",
       "    </tr>\n",
       "    <tr>\n",
       "      <th class=\"index_name level0\" >Voltage</th>\n",
       "      <th class=\"blank col0\" >&nbsp;</th>\n",
       "    </tr>\n",
       "  </thead>\n",
       "  <tbody>\n",
       "    <tr>\n",
       "      <th id=\"T_a2d07_level0_row0\" class=\"row_heading level0 row0\" >4.20</th>\n",
       "      <td id=\"T_a2d07_row0_col0\" class=\"data row0 col0\" >10.62</td>\n",
       "    </tr>\n",
       "    <tr>\n",
       "      <th id=\"T_a2d07_level0_row1\" class=\"row_heading level0 row1\" >4.25</th>\n",
       "      <td id=\"T_a2d07_row1_col0\" class=\"data row1 col0\" >11.16</td>\n",
       "    </tr>\n",
       "    <tr>\n",
       "      <th id=\"T_a2d07_level0_row2\" class=\"row_heading level0 row2\" >4.30</th>\n",
       "      <td id=\"T_a2d07_row2_col0\" class=\"data row2 col0\" >11.72</td>\n",
       "    </tr>\n",
       "    <tr>\n",
       "      <th id=\"T_a2d07_level0_row3\" class=\"row_heading level0 row3\" >4.35</th>\n",
       "      <td id=\"T_a2d07_row3_col0\" class=\"data row3 col0\" >12.24</td>\n",
       "    </tr>\n",
       "    <tr>\n",
       "      <th id=\"T_a2d07_level0_row4\" class=\"row_heading level0 row4\" >4.40</th>\n",
       "      <td id=\"T_a2d07_row4_col0\" class=\"data row4 col0\" >12.98</td>\n",
       "    </tr>\n",
       "  </tbody>\n",
       "</table>\n"
      ],
      "text/plain": [
       "<pandas.io.formats.style.Styler at 0x15114bb5a00>"
      ]
     },
     "execution_count": 120,
     "metadata": {},
     "output_type": "execute_result"
    }
   ],
   "source": [
    "# It is important to understand the impact of the low battery voltage on the battery capacity.\n",
    "vLow=3*1.16              # The VHA side low battery threshold is 1.16 V, so 3*1.16 on the battery side of the HPM10\n",
    "tLowBat=34/60            # I need the low battery wait time in hours. 4 minutes persistenace + 30 minutes wait.\n",
    "iDischarge=0.36          # My estimate of the discharge current for the CIC nominal current\n",
    "qFix=tLowBat*iDischarge  # Here is the charge transferred during the low battery interval\n",
    "\n",
    "from scipy.interpolate import interp1d\n",
    "vy = pd.DataFrame({'CV':[],'q':[]})\n",
    "for y in z['CV'].unique():\n",
    "    vx = []\n",
    "    for x in z['Unit'].unique():\n",
    "        interp_func = interp1d(z.query(f\"Unit=='{x}' & CV=='{y}'\").v, z.query(f\"Unit=='{x}' & CV=='{y}'\").q)\n",
    "        qx = interp_func(vLow)\n",
    "    #vy =vy.append({'CV':y,'q':qx+qFix},ignore_index=True)\n",
    "    vy =pd.concat([vy,pd.DataFrame({'CV':[y],'q':[qx+qFix]})])\n",
    "    gzzz= (vy\n",
    "      .set_index(['CV'],drop=True)\n",
    "      .rename(columns={\"q\":\"Charge (mAh)\"},index={'420':'4.20','430':'4.30','435':'4.35', '425':'4.25', '440':'4.40'})\n",
    "      .rename_axis(\"Voltage\", axis=0)\n",
    "     )\n",
    "\n",
    "with pd.option_context('display.precision', 2):\n",
    "    style = gzzz.sort_index().style.pipe(dfdark)\n",
    "style"
   ]
  },
  {
   "cell_type": "code",
   "execution_count": 121,
   "metadata": {},
   "outputs": [
    {
     "data": {
      "image/png": "[encoded data removed]",
      "text/plain": [
       "<Figure size 432x288 with 1 Axes>"
      ]
     },
     "metadata": {},
     "output_type": "display_data"
    }
   ],
   "source": [
    "plt.figure(figsize=(6,4))\n",
    "\n",
    "z222 = {'4.20':4.20,'4.25':4.25,'4.30':4.30,'4.35':4.35,'4.40':4.40}\n",
    "gzzz['x']=gzzz.index.map(z222)\n",
    "\n",
    "sns.lineplot(x = 'x', y = 'Charge (mAh)', color='green',data = gzzz)\n",
    "sns.scatterplot(x = 'x', y = 'Charge (mAh)', data = gzzz, s =200, marker='^',color='red')\n",
    "plt.title(\"Capacity versus Termination Voltage\")\n",
    "plt.xlabel(\"Termination Voltage (V)\")\n",
    "plt.ylabel(\"Capacity (mAh)\")\n",
    "plt.title(\"Z02FH SOC Curve\")\n",
    "None"
   ]
  },
  {
   "cell_type": "markdown",
   "metadata": {},
   "source": [
    "# SOC Curves"
   ]
  },
  {
   "cell_type": "markdown",
   "metadata": {},
   "source": [
    "## Generate SOC Curves for Each UUT"
   ]
  },
  {
   "cell_type": "code",
   "execution_count": 122,
   "metadata": {
    "scrolled": true
   },
   "outputs": [
    {
     "name": "stdout",
     "output_type": "stream",
     "text": [
      "      soc   VBAT  Unit    SOC\n",
      "0   100.0  4.200  Z22A  1.000\n",
      "1    99.9  4.180  Z22A  0.999\n",
      "2    95.0  4.125  Z22A  0.950\n",
      "3    90.0  4.080  Z22A  0.900\n",
      "4    85.0  4.039  Z22A  0.850\n",
      "5    80.0  4.000  Z22A  0.800\n",
      "6    75.0  3.965  Z22A  0.750\n",
      "7    70.0  3.931  Z22A  0.700\n",
      "8    65.0  3.897  Z22A  0.650\n",
      "9    60.0  3.860  Z22A  0.600\n",
      "10   55.0  3.835  Z22A  0.550\n",
      "11   50.0  3.817  Z22A  0.500\n",
      "12   40.0  3.788  Z22A  0.400\n",
      "13   35.0  3.775  Z22A  0.350\n",
      "14   30.0  3.758  Z22A  0.300\n",
      "15   25.0  3.740  Z22A  0.250\n",
      "16   20.0  3.721  Z22A  0.200\n",
      "17   15.0  3.691  Z22A  0.150\n",
      "18   10.0  3.679  Z22A  0.100\n",
      "19    5.0  3.595  Z22A  0.050\n",
      "20    3.0  3.490  Z22A  0.030\n",
      "21    2.0  3.410  Z22A  0.020\n",
      "22    1.0  3.300  Z22A  0.010\n",
      "23    0.0  3.000  Z22A  0.000\n"
     ]
    }
   ],
   "source": [
    "vendor=pd.DataFrame({\"soc\" :[100,99.9,95,90,85,80,75,70,65,60,55,50,40,35,30,25,20,15,10,5,3,2,1,0],\n",
    "                    \"VBAT\":[4.2,4.18,4.125,4.08,4.039,4,3.965,3.931,3.897,3.86,3.835,3.817,3.788,3.775,3.758,3.74,3.721,3.691,3.679,3.595,3.49,3.41,3.3,3\n",
    "]}\n",
    ")\n",
    "vendor[\"Unit\"]=\"Z22A\"\n",
    "vendor['SOC']=0.01*vendor.soc\n",
    "print(vendor)\n",
    "\n",
    "\n",
    "r = pd.DataFrame()\n",
    "for v in z['CV'].unique():\n",
    "    for u in z['Unit'].unique():\n",
    "        s = z.query(f\"Unit=='{u}' & CV=='{v}'\")\n",
    "        s=s.sort_values(by=['t'])\n",
    "        m = s['q'].max()\n",
    "        s=s.assign(soc = 1-s['q']/m)\n",
    "        r = pd.concat([r,s])\n",
    "        \n",
    "r=r.rename(columns={\"v\":\"VBAT\",\"soc\":\"SOC\"})"
   ]
  },
  {
   "cell_type": "markdown",
   "metadata": {},
   "source": [
    "## Graph SOC from 3.0 V to 4.2 V\n",
    "\n",
    "The vendor's normally rate their batteries from 3.0 V to 4.2 V. There are two batteries under test. The following plot shows an overplot of the two curves. As you can see, the two devices are very consistent. Normally, I average the two curves. In this case, there is no need to average because they are so similar."
   ]
  },
  {
   "cell_type": "code",
   "execution_count": 123,
   "metadata": {},
   "outputs": [
    {
     "data": {
      "image/png": "[encoded data removed]",
      "text/plain": [
       "<Figure size 484.875x288 with 1 Axes>"
      ]
     },
     "metadata": {},
     "output_type": "display_data"
    }
   ],
   "source": [
    "import matplotlib.ticker as tkr\n",
    "custom_colors = ['#FF5733', '#FFB933', '#99e2b4', '#33A2FF', '#a663cc']\n",
    "df3 = pd.concat([r,vendor]).reset_index(drop=True)\n",
    "ax=sns.relplot(x = df3.VBAT, y = df3.SOC, hue=df3.CV, palette = custom_colors,kind=\"line\", \\\n",
    "              height=4, aspect=6/4)\n",
    "ax.set(title='Z02FH SOC versus Z22A SOC',ylabel=\"SOC (%)\",xlabel=\"VBAT (V)\")\n",
    "for a in ax.axes.flat:\n",
    "    a.yaxis.set_major_formatter(tkr.FuncFormatter(lambda y, p: f'{y:.0%}'))\n",
    "leg = ax._legend\n",
    "leg.set_title(\"vTerm\")\n",
    "leg.set_bbox_to_anchor([0.15, 0.95])\n",
    "leg._loc = 2 \n",
    "chg = {\"440\":\"4.40\",\"435\":\"4.35\",\"430\":\"4.30\",\"425\":\"4.25\",\"420\":\"4.20\"}\n",
    "for t in leg.get_texts():\n",
    "    if t.get_text() in chg:\n",
    "        t.set_text(chg[t.get_text()])\n",
    "plt.show()"
   ]
  },
  {
   "cell_type": "code",
   "execution_count": 124,
   "metadata": {
    "scrolled": true
   },
   "outputs": [
    {
     "name": "stdout",
     "output_type": "stream",
     "text": [
      "\u001b[1;46mI am just printing one battery's SOC\u001b[0m\n"
     ]
    },
    {
     "data": {
      "image/png": "[encoded data removed]",
      "text/plain": [
       "<Figure size 492x288 with 1 Axes>"
      ]
     },
     "metadata": {},
     "output_type": "display_data"
    }
   ],
   "source": [
    "df4=df3.copy()\n",
    "df4=df4.query(\"Unit=='U03' and CV=='420'\")\n",
    "df4=df4[['VBAT','SOC',\"Unit\"]]\n",
    "df5 = pd.concat([df4, vendor], ignore_index=True)\n",
    "g = (sns.relplot(data=df5, x='VBAT', y='SOC', kind='line', hue='Unit', palette=['red', 'blue'], height=4, aspect=6/4)\n",
    "     .set(title='Z22A and Z02FH SOC Comparison (0.5 mA)',xlabel='VBAT (V)',ylabel='SOC')\n",
    "    )\n",
    "leg = g._legend\n",
    "leg.set_bbox_to_anchor([0.275, 0.875])  # coordinates of lower left of bounding box\n",
    "next(g.axes.flat).yaxis.set_major_formatter(PercentFormatter(1))\n",
    "print(\"\\033[1;46mI am just printing one battery's SOC\\033[0m\")"
   ]
  },
  {
   "cell_type": "code",
   "execution_count": 125,
   "metadata": {
    "scrolled": false
   },
   "outputs": [
    {
     "data": {
      "image/png": "[encoded data removed]",
      "text/plain": [
       "<Figure size 432x288 with 1 Axes>"
      ]
     },
     "metadata": {},
     "output_type": "display_data"
    }
   ],
   "source": [
    "\n",
    "import seaborn as sns\n",
    "import matplotlib.pyplot as plt\n",
    "plt.figure(figsize=(6,4))\n",
    "g=sns.lineplot(\n",
    "                     x=r.VBAT,\n",
    "                     y=r.SOC*100,\n",
    "                     style=r.Unit,\n",
    "                     hue=r.CV,\n",
    "                     alpha=0.6\n",
    ")\n",
    "g.yaxis.set_major_formatter(PercentFormatter())\n",
    "g.set_title(\"SOC Overplot\")\n",
    "plt.xlabel(\"VBAT (V)\")\n",
    "plt.ylabel(\"SOC (%)\")\n",
    "plt.title(\"Z02FH SOC Curve\")\n",
    "# The following code modifies the legend object labels. I had to guess at how to do this.\n",
    "leg2 = g.get_legend()\n",
    "leg2.set_bbox_to_anchor((1.05, 1))\n",
    "chg = {\"440\":4.40,\"435\":4.35,\"430\":4.30,\"425\":4.25,\"420\":4.20}\n",
    "for t in leg2.get_texts():\n",
    "    if t.get_text() in chg:\n",
    "        t.set_text(chg[t.get_text()])\n",
    "    if t.get_text() in ['CV']:\n",
    "        t.set_text('vTerm')\n",
    "None"
   ]
  },
  {
   "cell_type": "markdown",
   "metadata": {},
   "source": [
    "## Single Graph SOC Overplot\n",
    "\n",
    "I simply filtered for one unit and plotted all the SOCs on one plot. "
   ]
  },
  {
   "cell_type": "code",
   "execution_count": 126,
   "metadata": {
    "scrolled": false
   },
   "outputs": [
    {
     "data": {
      "image/png": "[encoded data removed]",
      "text/plain": [
       "<Figure size 432x288 with 1 Axes>"
      ]
     },
     "metadata": {},
     "output_type": "display_data"
    }
   ],
   "source": [
    "# These are close enough that I don't need to average them. I will just overplot.\n",
    "r1 = r.query(\"Unit=='U01'\").assign(SOC = lambda x: x.SOC*100)\n",
    "plt.figure(figsize=(6,4))\n",
    "g = sns.lineplot(data=r1,x='VBAT', y='SOC',hue='CV')\n",
    "g.yaxis.set_major_formatter(PercentFormatter())\n",
    "g.set_title(\"Z02FH Discharge Curve (Wired Voltage Range)\")\n",
    "plt.xlabel(\"VBAT (V)\")\n",
    "plt.ylabel(\"SOC (%)\")\n",
    "plt.legend(title='vTerm', loc='upper left', labels=['4.40','4.35', '4.30', '4.25','4.20'])\n",
    "g.text(3.6, 90, \"IBAT= 0.5 mA\")\n",
    "None"
   ]
  },
  {
   "cell_type": "markdown",
   "metadata": {},
   "source": [
    "The manufacturer SOC is typically specified over a voltage range from 4.2 V to 3.0 V. In this case, we will be using the battery at 4.35 V to 3.0 V. Starkey will only use this range for wired products. "
   ]
  },
  {
   "cell_type": "code",
   "execution_count": 127,
   "metadata": {},
   "outputs": [
    {
     "data": {
      "text/html": [
       "<div>\n",
       "<style scoped>\n",
       "    .dataframe tbody tr th:only-of-type {\n",
       "        vertical-align: middle;\n",
       "    }\n",
       "\n",
       "    .dataframe tbody tr th {\n",
       "        vertical-align: top;\n",
       "    }\n",
       "\n",
       "    .dataframe thead th {\n",
       "        text-align: right;\n",
       "    }\n",
       "</style>\n",
       "<table border=\"1\" class=\"dataframe\">\n",
       "  <thead>\n",
       "    <tr style=\"text-align: right;\">\n",
       "      <th></th>\n",
       "      <th>SOC</th>\n",
       "    </tr>\n",
       "    <tr>\n",
       "      <th>VBAT</th>\n",
       "      <th></th>\n",
       "    </tr>\n",
       "  </thead>\n",
       "  <tbody>\n",
       "    <tr>\n",
       "      <th>4.35000</th>\n",
       "      <td>100.000000</td>\n",
       "    </tr>\n",
       "    <tr>\n",
       "      <th>4.33692</th>\n",
       "      <td>99.999989</td>\n",
       "    </tr>\n",
       "    <tr>\n",
       "      <th>4.32815</th>\n",
       "      <td>99.932679</td>\n",
       "    </tr>\n",
       "    <tr>\n",
       "      <th>4.32593</th>\n",
       "      <td>99.865369</td>\n",
       "    </tr>\n",
       "    <tr>\n",
       "      <th>4.32441</th>\n",
       "      <td>99.798060</td>\n",
       "    </tr>\n",
       "    <tr>\n",
       "      <th>...</th>\n",
       "      <td>...</td>\n",
       "    </tr>\n",
       "    <tr>\n",
       "      <th>3.13802</th>\n",
       "      <td>0.247015</td>\n",
       "    </tr>\n",
       "    <tr>\n",
       "      <th>3.10956</th>\n",
       "      <td>0.179706</td>\n",
       "    </tr>\n",
       "    <tr>\n",
       "      <th>3.07568</th>\n",
       "      <td>0.112396</td>\n",
       "    </tr>\n",
       "    <tr>\n",
       "      <th>3.03441</th>\n",
       "      <td>0.045086</td>\n",
       "    </tr>\n",
       "    <tr>\n",
       "      <th>3.00000</th>\n",
       "      <td>0.000000</td>\n",
       "    </tr>\n",
       "  </tbody>\n",
       "</table>\n",
       "<p>1488 rows × 1 columns</p>\n",
       "</div>"
      ],
      "text/plain": [
       "                SOC\n",
       "VBAT               \n",
       "4.35000  100.000000\n",
       "4.33692   99.999989\n",
       "4.32815   99.932679\n",
       "4.32593   99.865369\n",
       "4.32441   99.798060\n",
       "...             ...\n",
       "3.13802    0.247015\n",
       "3.10956    0.179706\n",
       "3.07568    0.112396\n",
       "3.03441    0.045086\n",
       "3.00000    0.000000\n",
       "\n",
       "[1488 rows x 1 columns]"
      ]
     },
     "metadata": {},
     "output_type": "display_data"
    }
   ],
   "source": [
    "df_man= (r1[r1.CV.eq('435')]\n",
    "         .set_index(\"VBAT\",drop=True)\n",
    "         .loc[:,[\"SOC\"]]\n",
    "        )\n",
    "display(df_man)\n",
    "df_man.to_csv(\"Z02FH_Man_SOC.csv\")"
   ]
  },
  {
   "cell_type": "markdown",
   "metadata": {},
   "source": [
    "## SOC from 3.414 V to 4.2 V\n",
    "\n",
    "This is the SOC we would use in our application."
   ]
  },
  {
   "cell_type": "code",
   "execution_count": 128,
   "metadata": {},
   "outputs": [
    {
     "name": "stdout",
     "output_type": "stream",
     "text": [
      "<class 'pandas.core.frame.DataFrame'>\n",
      "RangeIndex: 6997 entries, 0 to 6996\n",
      "Data columns (total 8 columns):\n",
      " #   Column  Non-Null Count  Dtype   \n",
      "---  ------  --------------  -----   \n",
      " 0   VBAT    6997 non-null   float64 \n",
      " 1   t       6997 non-null   float64 \n",
      " 2   q       6997 non-null   float64 \n",
      " 3   Unit    6997 non-null   object  \n",
      " 4   Model   6997 non-null   object  \n",
      " 5   CV      6997 non-null   category\n",
      " 6   vTerm   6992 non-null   object  \n",
      " 7   SOC     6997 non-null   float64 \n",
      "dtypes: category(1), float64(4), object(3)\n",
      "memory usage: 389.8+ KB\n"
     ]
    },
    {
     "data": {
      "text/html": [
       "<div>\n",
       "<style scoped>\n",
       "    .dataframe tbody tr th:only-of-type {\n",
       "        vertical-align: middle;\n",
       "    }\n",
       "\n",
       "    .dataframe tbody tr th {\n",
       "        vertical-align: top;\n",
       "    }\n",
       "\n",
       "    .dataframe thead th {\n",
       "        text-align: right;\n",
       "    }\n",
       "</style>\n",
       "<table border=\"1\" class=\"dataframe\">\n",
       "  <thead>\n",
       "    <tr style=\"text-align: right;\">\n",
       "      <th></th>\n",
       "      <th>VBAT</th>\n",
       "      <th>t</th>\n",
       "      <th>q</th>\n",
       "      <th>Unit</th>\n",
       "      <th>Model</th>\n",
       "      <th>CV</th>\n",
       "      <th>vTerm</th>\n",
       "      <th>SOC</th>\n",
       "    </tr>\n",
       "  </thead>\n",
       "  <tbody>\n",
       "    <tr>\n",
       "      <th>0</th>\n",
       "      <td>4.40000</td>\n",
       "      <td>0.000000</td>\n",
       "      <td>0.000000</td>\n",
       "      <td>U01</td>\n",
       "      <td>Z02F</td>\n",
       "      <td>4.40</td>\n",
       "      <td>440</td>\n",
       "      <td>100.000000</td>\n",
       "    </tr>\n",
       "    <tr>\n",
       "      <th>1</th>\n",
       "      <td>4.38689</td>\n",
       "      <td>0.000003</td>\n",
       "      <td>0.000001</td>\n",
       "      <td>U01</td>\n",
       "      <td>Z02F</td>\n",
       "      <td>4.40</td>\n",
       "      <td>440</td>\n",
       "      <td>99.999989</td>\n",
       "    </tr>\n",
       "    <tr>\n",
       "      <th>2</th>\n",
       "      <td>4.37804</td>\n",
       "      <td>0.016669</td>\n",
       "      <td>0.008335</td>\n",
       "      <td>U01</td>\n",
       "      <td>Z02F</td>\n",
       "      <td>4.40</td>\n",
       "      <td>440</td>\n",
       "      <td>99.935264</td>\n",
       "    </tr>\n",
       "    <tr>\n",
       "      <th>3</th>\n",
       "      <td>4.37591</td>\n",
       "      <td>0.033336</td>\n",
       "      <td>0.016668</td>\n",
       "      <td>U01</td>\n",
       "      <td>Z02F</td>\n",
       "      <td>4.40</td>\n",
       "      <td>440</td>\n",
       "      <td>99.870539</td>\n",
       "    </tr>\n",
       "    <tr>\n",
       "      <th>4</th>\n",
       "      <td>4.37438</td>\n",
       "      <td>0.050003</td>\n",
       "      <td>0.025001</td>\n",
       "      <td>U01</td>\n",
       "      <td>Z02F</td>\n",
       "      <td>4.40</td>\n",
       "      <td>440</td>\n",
       "      <td>99.805814</td>\n",
       "    </tr>\n",
       "    <tr>\n",
       "      <th>...</th>\n",
       "      <td>...</td>\n",
       "      <td>...</td>\n",
       "      <td>...</td>\n",
       "      <td>...</td>\n",
       "      <td>...</td>\n",
       "      <td>...</td>\n",
       "      <td>...</td>\n",
       "      <td>...</td>\n",
       "    </tr>\n",
       "    <tr>\n",
       "      <th>6992</th>\n",
       "      <td>3.43519</td>\n",
       "      <td>20.983336</td>\n",
       "      <td>10.491668</td>\n",
       "      <td>U01</td>\n",
       "      <td>Z02F</td>\n",
       "      <td>4.20</td>\n",
       "      <td>420</td>\n",
       "      <td>0.237718</td>\n",
       "    </tr>\n",
       "    <tr>\n",
       "      <th>6993</th>\n",
       "      <td>3.42924</td>\n",
       "      <td>21.000003</td>\n",
       "      <td>10.500001</td>\n",
       "      <td>U01</td>\n",
       "      <td>Z02F</td>\n",
       "      <td>4.20</td>\n",
       "      <td>420</td>\n",
       "      <td>0.158479</td>\n",
       "    </tr>\n",
       "    <tr>\n",
       "      <th>6994</th>\n",
       "      <td>3.42321</td>\n",
       "      <td>21.016669</td>\n",
       "      <td>10.508335</td>\n",
       "      <td>U01</td>\n",
       "      <td>Z02F</td>\n",
       "      <td>4.20</td>\n",
       "      <td>420</td>\n",
       "      <td>0.079239</td>\n",
       "    </tr>\n",
       "    <tr>\n",
       "      <th>6995</th>\n",
       "      <td>3.41703</td>\n",
       "      <td>21.033336</td>\n",
       "      <td>10.516668</td>\n",
       "      <td>U01</td>\n",
       "      <td>Z02F</td>\n",
       "      <td>4.20</td>\n",
       "      <td>420</td>\n",
       "      <td>0.000000</td>\n",
       "    </tr>\n",
       "    <tr>\n",
       "      <th>6996</th>\n",
       "      <td>3.41400</td>\n",
       "      <td>21.041508</td>\n",
       "      <td>10.520754</td>\n",
       "      <td>U01</td>\n",
       "      <td>Z22A</td>\n",
       "      <td>4.20</td>\n",
       "      <td>NaN</td>\n",
       "      <td>0.000000</td>\n",
       "    </tr>\n",
       "  </tbody>\n",
       "</table>\n",
       "<p>6997 rows × 8 columns</p>\n",
       "</div>"
      ],
      "text/plain": [
       "         VBAT          t          q Unit Model    CV vTerm         SOC\n",
       "0     4.40000   0.000000   0.000000  U01  Z02F  4.40   440  100.000000\n",
       "1     4.38689   0.000003   0.000001  U01  Z02F  4.40   440   99.999989\n",
       "2     4.37804   0.016669   0.008335  U01  Z02F  4.40   440   99.935264\n",
       "3     4.37591   0.033336   0.016668  U01  Z02F  4.40   440   99.870539\n",
       "4     4.37438   0.050003   0.025001  U01  Z02F  4.40   440   99.805814\n",
       "...       ...        ...        ...  ...   ...   ...   ...         ...\n",
       "6992  3.43519  20.983336  10.491668  U01  Z02F  4.20   420    0.237718\n",
       "6993  3.42924  21.000003  10.500001  U01  Z02F  4.20   420    0.158479\n",
       "6994  3.42321  21.016669  10.508335  U01  Z02F  4.20   420    0.079239\n",
       "6995  3.41703  21.033336  10.516668  U01  Z02F  4.20   420    0.000000\n",
       "6996  3.41400  21.041508  10.520754  U01  Z22A  4.20   NaN    0.000000\n",
       "\n",
       "[6997 rows x 8 columns]"
      ]
     },
     "metadata": {},
     "output_type": "display_data"
    }
   ],
   "source": [
    "from scipy import interpolate\n",
    "n = r1[r1['VBAT']>3.414]\n",
    "y1 = pd.DataFrame()\n",
    "for u in n.CV.unique():\n",
    "    x = n[n['CV']==u]\n",
    "    socmin=x['SOC'].min()\n",
    "    f1 = interpolate.interp1d(x.VBAT, x.t, fill_value='extrapolate')\n",
    "    g1 = interpolate.interp1d(x.VBAT, x.q, fill_value='extrapolate')\n",
    "    new_row = pd.DataFrame({'SOC':0,'VBAT':3.414, 't':f1(3.414), 'q':g1(3.414),'Unit':'U01',\"Model\":\"Z22A\",\"CV\":u}, index=[0])\n",
    "    x=x.assign(SOC = lambda x: (x.SOC-socmin)/(100-socmin))\n",
    "    x=pd.concat([x.loc[:],new_row])\n",
    "    y1 = pd.concat([y1,x]).reset_index(drop=True)\n",
    "\n",
    "y1.SOC=y1.SOC*100\n",
    "\n",
    "y1['CV'] = y1['CV'].astype('category')\n",
    "\n",
    "y1.CV=y1.CV.cat.rename_categories({'420':'4.20','425':'4.25','430':'4.30','435':'4.35','440':'4.40'})\n",
    "\n",
    "y1.info()\n",
    "display(y1)\n"
   ]
  },
  {
   "cell_type": "markdown",
   "metadata": {},
   "source": [
    "I need to generate a SOC table for wireless products. I assume that wireless has a minimum $V_{HA}=1.138\\text{V}$ (old Charlie value). Manufacturers typically specify their battery SOCs over 4.2 V to 3.0 V. "
   ]
  },
  {
   "cell_type": "code",
   "execution_count": 129,
   "metadata": {},
   "outputs": [
    {
     "data": {
      "text/html": [
       "<div>\n",
       "<style scoped>\n",
       "    .dataframe tbody tr th:only-of-type {\n",
       "        vertical-align: middle;\n",
       "    }\n",
       "\n",
       "    .dataframe tbody tr th {\n",
       "        vertical-align: top;\n",
       "    }\n",
       "\n",
       "    .dataframe thead th {\n",
       "        text-align: right;\n",
       "    }\n",
       "</style>\n",
       "<table border=\"1\" class=\"dataframe\">\n",
       "  <thead>\n",
       "    <tr style=\"text-align: right;\">\n",
       "      <th></th>\n",
       "      <th>SOC</th>\n",
       "    </tr>\n",
       "    <tr>\n",
       "      <th>VBAT</th>\n",
       "      <th></th>\n",
       "    </tr>\n",
       "  </thead>\n",
       "  <tbody>\n",
       "    <tr>\n",
       "      <th>4.35000</th>\n",
       "      <td>100.000000</td>\n",
       "    </tr>\n",
       "    <tr>\n",
       "      <th>4.33692</th>\n",
       "      <td>99.999989</td>\n",
       "    </tr>\n",
       "    <tr>\n",
       "      <th>4.32815</th>\n",
       "      <td>99.931307</td>\n",
       "    </tr>\n",
       "    <tr>\n",
       "      <th>4.32593</th>\n",
       "      <td>99.862626</td>\n",
       "    </tr>\n",
       "    <tr>\n",
       "      <th>4.32441</th>\n",
       "      <td>99.793945</td>\n",
       "    </tr>\n",
       "    <tr>\n",
       "      <th>...</th>\n",
       "      <td>...</td>\n",
       "    </tr>\n",
       "    <tr>\n",
       "      <th>3.43709</th>\n",
       "      <td>0.206044</td>\n",
       "    </tr>\n",
       "    <tr>\n",
       "      <th>3.43122</th>\n",
       "      <td>0.137363</td>\n",
       "    </tr>\n",
       "    <tr>\n",
       "      <th>3.42535</th>\n",
       "      <td>0.068681</td>\n",
       "    </tr>\n",
       "    <tr>\n",
       "      <th>3.41924</th>\n",
       "      <td>0.000000</td>\n",
       "    </tr>\n",
       "    <tr>\n",
       "      <th>3.41400</th>\n",
       "      <td>0.000000</td>\n",
       "    </tr>\n",
       "  </tbody>\n",
       "</table>\n",
       "<p>1459 rows × 1 columns</p>\n",
       "</div>"
      ],
      "text/plain": [
       "                SOC\n",
       "VBAT               \n",
       "4.35000  100.000000\n",
       "4.33692   99.999989\n",
       "4.32815   99.931307\n",
       "4.32593   99.862626\n",
       "4.32441   99.793945\n",
       "...             ...\n",
       "3.43709    0.206044\n",
       "3.43122    0.137363\n",
       "3.42535    0.068681\n",
       "3.41924    0.000000\n",
       "3.41400    0.000000\n",
       "\n",
       "[1459 rows x 1 columns]"
      ]
     },
     "metadata": {},
     "output_type": "display_data"
    },
    {
     "name": "stdout",
     "output_type": "stream",
     "text": [
      "              SOC\n",
      "VBAT             \n",
      "3.43709  0.206044\n",
      "3.43122  0.137363\n",
      "3.42535  0.068681\n",
      "3.41924  0.000000\n",
      "3.41400  0.000000\n"
     ]
    },
    {
     "data": {
      "text/plain": [
       "<AxesSubplot:xlabel='VBAT'>"
      ]
     },
     "execution_count": 129,
     "metadata": {},
     "output_type": "execute_result"
    },
    {
     "data": {
      "image/png": "[encoded data removed]",
      "text/plain": [
       "<Figure size 432x288 with 1 Axes>"
      ]
     },
     "metadata": {},
     "output_type": "display_data"
    }
   ],
   "source": [
    "df_exp= (y1[y1.CV.eq('4.35')]\n",
    "         .set_index(\"VBAT\",drop=True)\n",
    "         .loc[:,[\"SOC\"]]\n",
    "        )\n",
    "display(df_exp)\n",
    "print(df_exp.tail())\n",
    "df_exp.to_csv(\"Z02FH_Man_Wireless.csv\")\n",
    "df_exp.plot()"
   ]
  },
  {
   "cell_type": "code",
   "execution_count": 130,
   "metadata": {
    "scrolled": true
   },
   "outputs": [
    {
     "data": {
      "image/png": "[encoded data removed]",
      "text/plain": [
       "<Figure size 432x288 with 1 Axes>"
      ]
     },
     "metadata": {},
     "output_type": "display_data"
    }
   ],
   "source": [
    "sns.set_style(\"darkgrid\")\n",
    "# Define your custom colors\n",
    "custom_colors = ['#FF5733', '#FFB933', '#99e2b4', '#33A2FF', '#a663cc']\n",
    "\n",
    "# Set the custom palette\n",
    "sns.set_palette(custom_colors)\n",
    "#plt.figure(figsize=(6,4))\n",
    "fig = sns.lineplot(\n",
    "            x='VBAT', \n",
    "            y='SOC',\n",
    "            hue='CV', \n",
    "            data=y1)\n",
    "fig.yaxis.set_major_formatter(PercentFormatter())\n",
    "plt.xlabel(\"VBAT (V)\")\n",
    "plt.ylabel(\"SOC(%)\")\n",
    "plt.title(\"Z02FH Discharge Curve (Wireless Voltage Range)\")\n",
    "# get the individual lines inside legend and set line width\n",
    "plt.legend(title='vTerm', loc='upper left')\n",
    "#for line in leg.get_lines():\n",
    "#    line.set_linewidth(1)\n",
    "\n",
    "#fig.text(4, 0.50, \"IBAT= 0.5 mA\")\n",
    "plt.show()\n"
   ]
  }
 ],
 "metadata": {
  "kernelspec": {
   "display_name": "Python 3 (ipykernel)",
   "language": "python",
   "name": "python3"
  },
  "language_info": {
   "codemirror_mode": {
    "name": "ipython",
    "version": 3
   },
   "file_extension": ".py",
   "mimetype": "text/x-python",
   "name": "python",
   "nbconvert_exporter": "python",
   "pygments_lexer": "ipython3",
   "version": "3.9.7"
  },
  "toc": {
   "base_numbering": 1,
   "nav_menu": {},
   "number_sections": true,
   "sideBar": true,
   "skip_h1_title": false,
   "title_cell": "Table of Contents",
   "title_sidebar": "Contents",
   "toc_cell": false,
   "toc_position": {},
   "toc_section_display": true,
   "toc_window_display": false
  }
 },
 "nbformat": 4,
 "nbformat_minor": 4
}
