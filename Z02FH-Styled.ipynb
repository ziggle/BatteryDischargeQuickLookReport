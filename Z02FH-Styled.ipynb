{
 "cells": [
  {
   "cell_type": "markdown",
   "metadata": {},
   "source": [
    "# Abstract"
   ]
  },
  {
   "cell_type": "markdown",
   "metadata": {},
   "source": [
    "This is a \"quick look\" test report that determines the capacity of batteries under repetitive charge and discharge cycles (CC/CV). This report reads the test files from the Data folder and performs some EDA on the data. "
   ]
  },
  {
   "cell_type": "code",
   "execution_count": 96,
   "metadata": {
    "scrolled": true
   },
   "outputs": [],
   "source": [
    "# Bring in the needed libraries\n",
    "import numpy as np\n",
    "import pandas as pd\n",
    "import matplotlib.pyplot as plt\n",
    "import seaborn as sns\n",
    "import glob\n",
    "import re\n",
    "from matplotlib import ticker\n",
    "from matplotlib.ticker import PercentFormatter"
   ]
  },
  {
   "cell_type": "markdown",
   "metadata": {},
   "source": [
    "## Data Cleaning Routine\n",
    "\n",
    "The files need to be cleaned prior to analyzing. The following routine cleans up the files. The cleanup actions are routine:\n",
    "\n",
    "* The data was grabbed for me by another engineer. \n",
    "* In general, the files contain multiple charge/discharge cycles. I have selected the third cycle (c == 3). I could average the cycles, but they are generally so similar that it is not worth it.\n",
    "* Each charge/discharge cycle contains multiple stages. Stage 4 is the discharge cycle.\n",
    "\n",
    "For a reason unknown to me, the CV=4.15V data had a different output format. So I wrote two different cleaning routine. I distinguished the files by call the CV=4.15 data \"csv\" and the others \"txt\".\n"
   ]
  },
  {
   "cell_type": "markdown",
   "metadata": {},
   "source": [
    "### Clean CSV Files\n",
    "\n",
    "While I call these CSV files, they actually are tab separated just like the other files. I gave them this name so that I could distinguish their format from the others. I wish I knew why the format was different, but it was. The key format difference is that the step time is in minutes rather than encoded in a string."
   ]
  },
  {
   "cell_type": "code",
   "execution_count": 97,
   "metadata": {
    "scrolled": true
   },
   "outputs": [],
   "source": [
    "def batTweak1(file):\n",
    "    return (\n",
    "        pd.read_csv(file, sep=\"\\t\",skiprows=4, header=0,usecols=[\"Cyc#\",\"Step\",\"StepTime\",\"Amps\",\"Volts\"])\n",
    "        .rename({\"Volts\":\"v\",\"Cyc#\":\"c\",\"StepTime\":\"t\"}, axis=1)\n",
    "        .query(\"c == 2 &  Step==5\")\n",
    "        .drop([\"Step\",\"Amps\",\"c\"],axis=1)\n",
    "        .assign(q = lambda x: x.t*0.5/60,\n",
    "                t = lambda x: x.t/60)\n",
    "    )"
   ]
  },
  {
   "cell_type": "markdown",
   "metadata": {},
   "source": [
    "### Clean TXT Files\n",
    "\n",
    "These are tab separated files that have step time encoded as an odd-ball date/time string."
   ]
  },
  {
   "cell_type": "code",
   "execution_count": 98,
   "metadata": {
    "scrolled": true
   },
   "outputs": [],
   "source": [
    "def batTweak(file):\n",
    "    return (\n",
    "        pd.read_csv(file, sep=\"\\t\",skiprows=4, header=0,usecols=[\"Cyc#\",\"Step\",\"StepTime\",\"Amps\",\"Volts\"])\n",
    "        .rename({\"Volts\":\"v\",\"Cyc#\":\"c\"}, axis=1)\n",
    "        .assign(days = lambda x: x.StepTime.str.extract(\"(.+?)d\"),\n",
    "                hours= lambda x: x.StepTime.str.extract(\"(?<=d)(.*)\"))\n",
    "        .assign(h =    lambda x: x.hours.str.extract(\"(\\d*)(?=:)\"),\n",
    "                m =    lambda x: x.hours.str.extract(\"(?<=:)(\\d*)\"),\n",
    "                s =    lambda x: x.hours.str.extract(\"(?<=:\\d\\d:)(.*)\"))\n",
    "        .drop([\"hours\",\"StepTime\",\"hours\"],axis=1)\n",
    "        .astype({\"days\":\"float64\",\"h\":\"float64\",\"m\":\"float64\",\"s\":\"float64\"})\n",
    "        .assign(t = lambda x: x.days*1440+x.h*60+x.m+x.s/60)\n",
    "        .drop([\"h\",\"m\",\"s\",\"days\"],axis=1)\n",
    "        .query(\"c == 2 &  Step==5\")\n",
    "        .drop([\"Step\",\"Amps\",\"c\"],axis=1)\n",
    "        .assign(q = lambda x: x.t*0.5/60,\n",
    "                t = lambda x: x.t/60)\n",
    "    )"
   ]
  },
  {
   "cell_type": "markdown",
   "metadata": {},
   "source": [
    "## Read the TXT Files and Clean\n",
    "\n",
    "Here we iterate through all the TXT files."
   ]
  },
  {
   "cell_type": "code",
   "execution_count": 99,
   "metadata": {
    "code_folding": []
   },
   "outputs": [],
   "source": [
    "### Utility File Reader\n",
    "\n",
    "def file_getter(f,g):\n",
    "    z = pd.DataFrame() # Create an empty dataframe\n",
    "    for f in files:\n",
    "        df = g(f)\n",
    "        unit = re.search(\"(?<=_U)\\w{2}\",f).group(0)\n",
    "        model = re.search(\"(?<=_M)\\w{4}\",f).group(0)\n",
    "        fctr = re.search(\"(?<=_D)\\w{3}\",f).group(0)\n",
    "        df = df.assign(Unit = \"U\"+unit,\n",
    "                       Model= model,\n",
    "                       CV = fctr)\n",
    "        vc = int(fctr)/100\n",
    "        new_row = pd.DataFrame({'v':vc, 't':0, 'q':0,'Unit':'U'+unit,\"Model\":model,\"CV\":fctr}, index=[0])\n",
    "        df=pd.concat([new_row,df.loc[:]]).reset_index(drop=True)\n",
    "        z = pd.concat([z,df])\n",
    "    return z.reset_index(drop=True)\n",
    "    "
   ]
  },
  {
   "cell_type": "code",
   "execution_count": 100,
   "metadata": {
    "scrolled": false
   },
   "outputs": [
    {
     "name": "stdout",
     "output_type": "stream",
     "text": [
      "            v          t          q Unit Model   CV\n",
      "1284  4.30000   0.000000   0.000000  U01  Z02F  430\n",
      "1285  4.28771   0.000003   0.000001  U01  Z02F  430\n",
      "1286  4.27909   0.016669   0.008335  U01  Z02F  430\n",
      "1287  4.27703   0.033336   0.016668  U01  Z02F  430\n",
      "1288  4.27550   0.050003   0.025001  U01  Z02F  430\n",
      "...       ...        ...        ...  ...   ...  ...\n",
      "2704  3.13466  23.650003  11.825001  U01  Z02F  430\n",
      "2705  3.10544  23.666669  11.833335  U01  Z02F  430\n",
      "2706  3.07111  23.683336  11.841668  U01  Z02F  430\n",
      "2707  3.02876  23.700003  11.850001  U01  Z02F  430\n",
      "2708  3.00000  23.709322  11.854661  U01  Z02F  430\n",
      "\n",
      "[1425 rows x 6 columns]\n"
     ]
    }
   ],
   "source": [
    "files=glob.glob(\"./Z02_Test/*.txt\",recursive=False)\n",
    "z=file_getter(files,batTweak)\n",
    "print(z[(z['CV']=='430')&(z['Unit']=='U01')])\n",
    "files=glob.glob(\"./Z02_Test/*.csv\",recursive=False)\n",
    "z1=file_getter(files,batTweak1)\n",
    "z  = (pd.concat([z,z1])\n",
    "      .sort_values(by=['CV'])\n",
    "      .reset_index(drop=True)\n",
    "     )"
   ]
  },
  {
   "cell_type": "markdown",
   "metadata": {},
   "source": [
    "# Extract-Transform-Load\n",
    "\n",
    "Once cleaned, the data is in the correct format but needs to be augmented with information on the unit-under-test (UUT) and battery model info. This data can be extracted from the file name, which has the following format.\n",
    "<pre><code>\n",
    " (tester initials: 2 char)_U(unit number: 2 char)_M(model: 4 characters)_D(test description:any length, spaces=dashes)\n",
    "</code></pre>\n",
    "I do not like spaces in file names and I decided that topics are separated by underscores and spaces replaced with dashes. I can illustrate this format as follows:\n",
    "<pre><code>\n",
    "MB_U02_MZ22A_DLong-Test-4-1-CV-CH17.txt\n",
    "</code></pre>\n",
    "\n",
    "The file information tells us that:\n",
    "\n",
    "* Tester initials: MB\n",
    "* Unit Under Test: 02\n",
    "* Model Under Test: Z22A\n",
    "* Test Description: Long Test 4.1 CV Channel 17"
   ]
  },
  {
   "cell_type": "markdown",
   "metadata": {},
   "source": [
    "# Exploratory Data Analysis\n",
    "\n",
    "The capacity value and the State of Charge (SoC) curve are all derived from the discharge curve, which is what the Maccor battery tester measures. The discharge curve for all the parts is shown below."
   ]
  },
  {
   "cell_type": "code",
   "execution_count": 101,
   "metadata": {},
   "outputs": [
    {
     "name": "stdout",
     "output_type": "stream",
     "text": [
      "Index(['v', 't', 'q', 'Unit', 'Model', 'CV'], dtype='object')\n",
      "            v          t          q Unit Model   CV\n",
      "4954  4.30000   0.000000   0.000000  U03  Z02F  430\n",
      "4964  4.28519   0.000011   0.000006  U03  Z02F  430\n",
      "4953  4.28031   0.016678   0.008339  U03  Z02F  430\n",
      "4951  4.27810   0.033344   0.016672  U03  Z02F  430\n",
      "4950  4.27672   0.050011   0.025006  U03  Z02F  430\n",
      "...       ...        ...        ...  ...   ...  ...\n",
      "7960  3.13466  23.650003  11.825001  U01  Z02F  430\n",
      "7948  3.10544  23.666669  11.833335  U01  Z02F  430\n",
      "7949  3.07111  23.683336  11.841668  U01  Z02F  430\n",
      "7950  3.02876  23.700003  11.850001  U01  Z02F  430\n",
      "7951  3.00000  23.709322  11.854661  U01  Z02F  430\n",
      "\n",
      "[4297 rows x 6 columns]\n"
     ]
    }
   ],
   "source": [
    "print(z.columns)\n",
    "z.sort_values(by=[\"Unit\",\"v\"],ascending=False,inplace=True)\n",
    "print(z[z['CV']=='430'])"
   ]
  },
  {
   "cell_type": "code",
   "execution_count": 102,
   "metadata": {
    "scrolled": true
   },
   "outputs": [
    {
     "data": {
      "image/png": "[encoded data removed]",
      "text/plain": [
       "<Figure size 480x320 with 1 Axes>"
      ]
     },
     "metadata": {},
     "output_type": "display_data"
    }
   ],
   "source": [
    "# View the Maccor Capacity Results\n",
    "zz = z.groupby([\"Unit\",\"CV\"])\n",
    "\n",
    "# Plot the Discharge Curve\n",
    "\n",
    "from matplotlib.pyplot import figure\n",
    "figure(figsize=(6, 4), dpi=80)\n",
    "sns.set_style(\"darkgrid\")\n",
    "\n",
    "fig = sns.lineplot(\n",
    "            x='t', \n",
    "            y='v',\n",
    "            hue='CV',\n",
    "            style='Unit',\n",
    "            data=z)\n",
    "\n",
    "plt.xlabel(\"Time (hours)\")\n",
    "plt.ylabel(\"VBAT (V)\")\n",
    "plt.title(\"Z02FH Discharge Curve: vTERM to 3.0V\")\n",
    "plt.show(fig)"
   ]
  },
  {
   "cell_type": "raw",
   "metadata": {},
   "source": []
  },
  {
   "cell_type": "markdown",
   "metadata": {},
   "source": [
    "# Battery Capacity - Vendor Voltage Range\n",
    "\n",
    "The battery capacities measured during this testing are computed below."
   ]
  },
  {
   "cell_type": "markdown",
   "metadata": {},
   "source": [
    "## Individual Battery Capacities"
   ]
  },
  {
   "cell_type": "code",
   "execution_count": 103,
   "metadata": {
    "scrolled": true
   },
   "outputs": [
    {
     "data": {
      "text/html": [
       "<div>\n",
       "<style scoped>\n",
       "    .dataframe tbody tr th:only-of-type {\n",
       "        vertical-align: middle;\n",
       "    }\n",
       "\n",
       "    .dataframe tbody tr th {\n",
       "        vertical-align: top;\n",
       "    }\n",
       "\n",
       "    .dataframe thead th {\n",
       "        text-align: right;\n",
       "    }\n",
       "</style>\n",
       "<table border=\"1\" class=\"dataframe\">\n",
       "  <thead>\n",
       "    <tr style=\"text-align: right;\">\n",
       "      <th></th>\n",
       "      <th></th>\n",
       "      <th>v</th>\n",
       "      <th>t</th>\n",
       "      <th>q</th>\n",
       "      <th>Model</th>\n",
       "    </tr>\n",
       "    <tr>\n",
       "      <th>CV</th>\n",
       "      <th>Unit</th>\n",
       "      <th></th>\n",
       "      <th></th>\n",
       "      <th></th>\n",
       "      <th></th>\n",
       "    </tr>\n",
       "  </thead>\n",
       "  <tbody>\n",
       "    <tr>\n",
       "      <th rowspan=\"3\" valign=\"top\">420</th>\n",
       "      <th>U01</th>\n",
       "      <td>4.20</td>\n",
       "      <td>21.36</td>\n",
       "      <td>10.68</td>\n",
       "      <td>Z02F</td>\n",
       "    </tr>\n",
       "    <tr>\n",
       "      <th>U02</th>\n",
       "      <td>4.20</td>\n",
       "      <td>21.42</td>\n",
       "      <td>10.71</td>\n",
       "      <td>Z02F</td>\n",
       "    </tr>\n",
       "    <tr>\n",
       "      <th>U03</th>\n",
       "      <td>4.20</td>\n",
       "      <td>21.11</td>\n",
       "      <td>10.56</td>\n",
       "      <td>Z02F</td>\n",
       "    </tr>\n",
       "    <tr>\n",
       "      <th rowspan=\"3\" valign=\"top\">430</th>\n",
       "      <th>U01</th>\n",
       "      <td>4.30</td>\n",
       "      <td>23.71</td>\n",
       "      <td>11.85</td>\n",
       "      <td>Z02F</td>\n",
       "    </tr>\n",
       "    <tr>\n",
       "      <th>U02</th>\n",
       "      <td>4.30</td>\n",
       "      <td>23.78</td>\n",
       "      <td>11.89</td>\n",
       "      <td>Z02F</td>\n",
       "    </tr>\n",
       "    <tr>\n",
       "      <th>U03</th>\n",
       "      <td>4.30</td>\n",
       "      <td>23.99</td>\n",
       "      <td>11.99</td>\n",
       "      <td>Z02F</td>\n",
       "    </tr>\n",
       "    <tr>\n",
       "      <th rowspan=\"3\" valign=\"top\">435</th>\n",
       "      <th>U01</th>\n",
       "      <td>4.35</td>\n",
       "      <td>24.76</td>\n",
       "      <td>12.38</td>\n",
       "      <td>Z02F</td>\n",
       "    </tr>\n",
       "    <tr>\n",
       "      <th>U02</th>\n",
       "      <td>4.35</td>\n",
       "      <td>24.87</td>\n",
       "      <td>12.43</td>\n",
       "      <td>Z02F</td>\n",
       "    </tr>\n",
       "    <tr>\n",
       "      <th>U03</th>\n",
       "      <td>4.35</td>\n",
       "      <td>25.09</td>\n",
       "      <td>12.54</td>\n",
       "      <td>Z02F</td>\n",
       "    </tr>\n",
       "  </tbody>\n",
       "</table>\n",
       "</div>"
      ],
      "text/plain": [
       "             v      t      q Model\n",
       "CV  Unit                          \n",
       "420 U01   4.20  21.36  10.68  Z02F\n",
       "    U02   4.20  21.42  10.71  Z02F\n",
       "    U03   4.20  21.11  10.56  Z02F\n",
       "430 U01   4.30  23.71  11.85  Z02F\n",
       "    U02   4.30  23.78  11.89  Z02F\n",
       "    U03   4.30  23.99  11.99  Z02F\n",
       "435 U01   4.35  24.76  12.38  Z02F\n",
       "    U02   4.35  24.87  12.43  Z02F\n",
       "    U03   4.35  25.09  12.54  Z02F"
      ]
     },
     "metadata": {},
     "output_type": "display_data"
    }
   ],
   "source": [
    "g1 = np.round(z.groupby( [\"CV\",\"Unit\"] ).max(),2)\n",
    "display(g1)"
   ]
  },
  {
   "cell_type": "code",
   "execution_count": 104,
   "metadata": {
    "scrolled": false
   },
   "outputs": [
    {
     "data": {
      "text/html": [
       "<style  type=\"text/css\" >\n",
       "    #T_f8db866e_ce3e_11ed_bbbf_cc3d827df47e thead {\n",
       "          background-color: tan;\n",
       "    }    #T_f8db866e_ce3e_11ed_bbbf_cc3d827df47e tbody tr:nth-child(even) {\n",
       "          background-color: navajowhite;\n",
       "    }    #T_f8db866e_ce3e_11ed_bbbf_cc3d827df47e th.row_heading {\n",
       "          background-color: beige;\n",
       "    }    #T_f8db866e_ce3e_11ed_bbbf_cc3d827df47e td {\n",
       "          border: white;\n",
       "    }</style><table id=\"T_f8db866e_ce3e_11ed_bbbf_cc3d827df47e\" ><thead>    <tr>        <th class=\"blank\" ></th>        <th class=\"blank level0\" ></th>        <th class=\"col_heading level0 col0\" >v</th>        <th class=\"col_heading level0 col1\" >t</th>        <th class=\"col_heading level0 col2\" >q</th>        <th class=\"col_heading level0 col3\" >Model</th>    </tr>    <tr>        <th class=\"index_name level0\" >CV</th>        <th class=\"index_name level1\" >Unit</th>        <th class=\"blank\" ></th>        <th class=\"blank\" ></th>        <th class=\"blank\" ></th>        <th class=\"blank\" ></th>    </tr></thead><tbody>\n",
       "                <tr>\n",
       "                        <th id=\"T_f8db866e_ce3e_11ed_bbbf_cc3d827df47elevel0_row0\" class=\"row_heading level0 row0\" rowspan=3>420</th>\n",
       "                        <th id=\"T_f8db866e_ce3e_11ed_bbbf_cc3d827df47elevel1_row0\" class=\"row_heading level1 row0\" >U01</th>\n",
       "                        <td id=\"T_f8db866e_ce3e_11ed_bbbf_cc3d827df47erow0_col0\" class=\"data row0 col0\" >4.20</td>\n",
       "                        <td id=\"T_f8db866e_ce3e_11ed_bbbf_cc3d827df47erow0_col1\" class=\"data row0 col1\" >21.36</td>\n",
       "                        <td id=\"T_f8db866e_ce3e_11ed_bbbf_cc3d827df47erow0_col2\" class=\"data row0 col2\" >10.68</td>\n",
       "                        <td id=\"T_f8db866e_ce3e_11ed_bbbf_cc3d827df47erow0_col3\" class=\"data row0 col3\" >Z02F</td>\n",
       "            </tr>\n",
       "            <tr>\n",
       "                                <th id=\"T_f8db866e_ce3e_11ed_bbbf_cc3d827df47elevel1_row1\" class=\"row_heading level1 row1\" >U02</th>\n",
       "                        <td id=\"T_f8db866e_ce3e_11ed_bbbf_cc3d827df47erow1_col0\" class=\"data row1 col0\" >4.20</td>\n",
       "                        <td id=\"T_f8db866e_ce3e_11ed_bbbf_cc3d827df47erow1_col1\" class=\"data row1 col1\" >21.42</td>\n",
       "                        <td id=\"T_f8db866e_ce3e_11ed_bbbf_cc3d827df47erow1_col2\" class=\"data row1 col2\" >10.71</td>\n",
       "                        <td id=\"T_f8db866e_ce3e_11ed_bbbf_cc3d827df47erow1_col3\" class=\"data row1 col3\" >Z02F</td>\n",
       "            </tr>\n",
       "            <tr>\n",
       "                                <th id=\"T_f8db866e_ce3e_11ed_bbbf_cc3d827df47elevel1_row2\" class=\"row_heading level1 row2\" >U03</th>\n",
       "                        <td id=\"T_f8db866e_ce3e_11ed_bbbf_cc3d827df47erow2_col0\" class=\"data row2 col0\" >4.20</td>\n",
       "                        <td id=\"T_f8db866e_ce3e_11ed_bbbf_cc3d827df47erow2_col1\" class=\"data row2 col1\" >21.11</td>\n",
       "                        <td id=\"T_f8db866e_ce3e_11ed_bbbf_cc3d827df47erow2_col2\" class=\"data row2 col2\" >10.56</td>\n",
       "                        <td id=\"T_f8db866e_ce3e_11ed_bbbf_cc3d827df47erow2_col3\" class=\"data row2 col3\" >Z02F</td>\n",
       "            </tr>\n",
       "            <tr>\n",
       "                        <th id=\"T_f8db866e_ce3e_11ed_bbbf_cc3d827df47elevel0_row3\" class=\"row_heading level0 row3\" rowspan=3>430</th>\n",
       "                        <th id=\"T_f8db866e_ce3e_11ed_bbbf_cc3d827df47elevel1_row3\" class=\"row_heading level1 row3\" >U01</th>\n",
       "                        <td id=\"T_f8db866e_ce3e_11ed_bbbf_cc3d827df47erow3_col0\" class=\"data row3 col0\" >4.30</td>\n",
       "                        <td id=\"T_f8db866e_ce3e_11ed_bbbf_cc3d827df47erow3_col1\" class=\"data row3 col1\" >23.71</td>\n",
       "                        <td id=\"T_f8db866e_ce3e_11ed_bbbf_cc3d827df47erow3_col2\" class=\"data row3 col2\" >11.85</td>\n",
       "                        <td id=\"T_f8db866e_ce3e_11ed_bbbf_cc3d827df47erow3_col3\" class=\"data row3 col3\" >Z02F</td>\n",
       "            </tr>\n",
       "            <tr>\n",
       "                                <th id=\"T_f8db866e_ce3e_11ed_bbbf_cc3d827df47elevel1_row4\" class=\"row_heading level1 row4\" >U02</th>\n",
       "                        <td id=\"T_f8db866e_ce3e_11ed_bbbf_cc3d827df47erow4_col0\" class=\"data row4 col0\" >4.30</td>\n",
       "                        <td id=\"T_f8db866e_ce3e_11ed_bbbf_cc3d827df47erow4_col1\" class=\"data row4 col1\" >23.78</td>\n",
       "                        <td id=\"T_f8db866e_ce3e_11ed_bbbf_cc3d827df47erow4_col2\" class=\"data row4 col2\" >11.89</td>\n",
       "                        <td id=\"T_f8db866e_ce3e_11ed_bbbf_cc3d827df47erow4_col3\" class=\"data row4 col3\" >Z02F</td>\n",
       "            </tr>\n",
       "            <tr>\n",
       "                                <th id=\"T_f8db866e_ce3e_11ed_bbbf_cc3d827df47elevel1_row5\" class=\"row_heading level1 row5\" >U03</th>\n",
       "                        <td id=\"T_f8db866e_ce3e_11ed_bbbf_cc3d827df47erow5_col0\" class=\"data row5 col0\" >4.30</td>\n",
       "                        <td id=\"T_f8db866e_ce3e_11ed_bbbf_cc3d827df47erow5_col1\" class=\"data row5 col1\" >23.99</td>\n",
       "                        <td id=\"T_f8db866e_ce3e_11ed_bbbf_cc3d827df47erow5_col2\" class=\"data row5 col2\" >11.99</td>\n",
       "                        <td id=\"T_f8db866e_ce3e_11ed_bbbf_cc3d827df47erow5_col3\" class=\"data row5 col3\" >Z02F</td>\n",
       "            </tr>\n",
       "            <tr>\n",
       "                        <th id=\"T_f8db866e_ce3e_11ed_bbbf_cc3d827df47elevel0_row6\" class=\"row_heading level0 row6\" rowspan=3>435</th>\n",
       "                        <th id=\"T_f8db866e_ce3e_11ed_bbbf_cc3d827df47elevel1_row6\" class=\"row_heading level1 row6\" >U01</th>\n",
       "                        <td id=\"T_f8db866e_ce3e_11ed_bbbf_cc3d827df47erow6_col0\" class=\"data row6 col0\" >4.35</td>\n",
       "                        <td id=\"T_f8db866e_ce3e_11ed_bbbf_cc3d827df47erow6_col1\" class=\"data row6 col1\" >24.76</td>\n",
       "                        <td id=\"T_f8db866e_ce3e_11ed_bbbf_cc3d827df47erow6_col2\" class=\"data row6 col2\" >12.38</td>\n",
       "                        <td id=\"T_f8db866e_ce3e_11ed_bbbf_cc3d827df47erow6_col3\" class=\"data row6 col3\" >Z02F</td>\n",
       "            </tr>\n",
       "            <tr>\n",
       "                                <th id=\"T_f8db866e_ce3e_11ed_bbbf_cc3d827df47elevel1_row7\" class=\"row_heading level1 row7\" >U02</th>\n",
       "                        <td id=\"T_f8db866e_ce3e_11ed_bbbf_cc3d827df47erow7_col0\" class=\"data row7 col0\" >4.35</td>\n",
       "                        <td id=\"T_f8db866e_ce3e_11ed_bbbf_cc3d827df47erow7_col1\" class=\"data row7 col1\" >24.87</td>\n",
       "                        <td id=\"T_f8db866e_ce3e_11ed_bbbf_cc3d827df47erow7_col2\" class=\"data row7 col2\" >12.43</td>\n",
       "                        <td id=\"T_f8db866e_ce3e_11ed_bbbf_cc3d827df47erow7_col3\" class=\"data row7 col3\" >Z02F</td>\n",
       "            </tr>\n",
       "            <tr>\n",
       "                                <th id=\"T_f8db866e_ce3e_11ed_bbbf_cc3d827df47elevel1_row8\" class=\"row_heading level1 row8\" >U03</th>\n",
       "                        <td id=\"T_f8db866e_ce3e_11ed_bbbf_cc3d827df47erow8_col0\" class=\"data row8 col0\" >4.35</td>\n",
       "                        <td id=\"T_f8db866e_ce3e_11ed_bbbf_cc3d827df47erow8_col1\" class=\"data row8 col1\" >25.09</td>\n",
       "                        <td id=\"T_f8db866e_ce3e_11ed_bbbf_cc3d827df47erow8_col2\" class=\"data row8 col2\" >12.54</td>\n",
       "                        <td id=\"T_f8db866e_ce3e_11ed_bbbf_cc3d827df47erow8_col3\" class=\"data row8 col3\" >Z02F</td>\n",
       "            </tr>\n",
       "    </tbody></table>"
      ],
      "text/plain": [
       "<pandas.io.formats.style.Styler at 0x17903980820>"
      ]
     },
     "metadata": {},
     "output_type": "display_data"
    }
   ],
   "source": [
    "\n",
    "# https://stackoverflow.com/questions/53062000/how-to-set-the-precision-for-the-output-of-the-pandas-dataframe-loc-in-a-jupyter\n",
    "# https://stackoverflow.com/questions/42576491/python3-pandas-styles-change-alternate-row-color\n",
    "# I have not been able to set the precision for each column independently\n",
    "\n",
    "def dfdark(styler):\n",
    "    #styler.background_gradient(cmap='coolwarm')\n",
    "    #styler.color('white')\n",
    "    styler.set_table_styles([\n",
    "        {\n",
    "            \"selector\":\"thead\",\n",
    "            \"props\":[(\"background-color\",\"tan\")]\n",
    "        },\n",
    "        {\n",
    "            \"selector\":\"tbody tr:nth-child(even)\",\n",
    "            \"props\":[(\"background-color\",\"navajowhite\")]\n",
    "        },\n",
    "        {\n",
    "            \"selector\":\"th.row_heading\",\n",
    "            \"props\":[(\"background-color\",\"beige\")]\n",
    "        },\n",
    "        {\n",
    "            \"selector\":\"td\",\n",
    "            \"props\":[(\"border\",\"white\")]\n",
    "        }\n",
    "    ])\n",
    "    return styler\n",
    "\n",
    "with pd.option_context('display.precision', 2):\n",
    "     style = g1.style.pipe(dfdark)\n",
    "display(style)"
   ]
  },
  {
   "cell_type": "markdown",
   "metadata": {},
   "source": [
    "## Aggregated Results\n",
    "\n",
    "The means of the measured values can be computed as follows."
   ]
  },
  {
   "cell_type": "code",
   "execution_count": 105,
   "metadata": {},
   "outputs": [
    {
     "data": {
      "text/html": [
       "<style  type=\"text/css\" >\n",
       "    #T_f8e48854_ce3e_11ed_a3de_cc3d827df47e thead {\n",
       "          background-color: tan;\n",
       "    }    #T_f8e48854_ce3e_11ed_a3de_cc3d827df47e tbody tr:nth-child(even) {\n",
       "          background-color: navajowhite;\n",
       "    }    #T_f8e48854_ce3e_11ed_a3de_cc3d827df47e th.row_heading {\n",
       "          background-color: beige;\n",
       "    }    #T_f8e48854_ce3e_11ed_a3de_cc3d827df47e td {\n",
       "          border: white;\n",
       "    }</style><table id=\"T_f8e48854_ce3e_11ed_a3de_cc3d827df47e\" ><thead>    <tr>        <th class=\"blank level0\" ></th>        <th class=\"col_heading level0 col0\" >Time (h)</th>        <th class=\"col_heading level0 col1\" >Charge (mAh)</th>    </tr>    <tr>        <th class=\"index_name level0\" >Voltage</th>        <th class=\"blank\" ></th>        <th class=\"blank\" ></th>    </tr></thead><tbody>\n",
       "                <tr>\n",
       "                        <th id=\"T_f8e48854_ce3e_11ed_a3de_cc3d827df47elevel0_row0\" class=\"row_heading level0 row0\" >4.2</th>\n",
       "                        <td id=\"T_f8e48854_ce3e_11ed_a3de_cc3d827df47erow0_col0\" class=\"data row0 col0\" >21.30</td>\n",
       "                        <td id=\"T_f8e48854_ce3e_11ed_a3de_cc3d827df47erow0_col1\" class=\"data row0 col1\" >10.65</td>\n",
       "            </tr>\n",
       "            <tr>\n",
       "                        <th id=\"T_f8e48854_ce3e_11ed_a3de_cc3d827df47elevel0_row1\" class=\"row_heading level0 row1\" >4.3</th>\n",
       "                        <td id=\"T_f8e48854_ce3e_11ed_a3de_cc3d827df47erow1_col0\" class=\"data row1 col0\" >23.83</td>\n",
       "                        <td id=\"T_f8e48854_ce3e_11ed_a3de_cc3d827df47erow1_col1\" class=\"data row1 col1\" >11.91</td>\n",
       "            </tr>\n",
       "            <tr>\n",
       "                        <th id=\"T_f8e48854_ce3e_11ed_a3de_cc3d827df47elevel0_row2\" class=\"row_heading level0 row2\" >4.35</th>\n",
       "                        <td id=\"T_f8e48854_ce3e_11ed_a3de_cc3d827df47erow2_col0\" class=\"data row2 col0\" >24.91</td>\n",
       "                        <td id=\"T_f8e48854_ce3e_11ed_a3de_cc3d827df47erow2_col1\" class=\"data row2 col1\" >12.45</td>\n",
       "            </tr>\n",
       "    </tbody></table>"
      ],
      "text/plain": [
       "<pandas.io.formats.style.Styler at 0x1790390d0d0>"
      ]
     },
     "execution_count": 105,
     "metadata": {},
     "output_type": "execute_result"
    }
   ],
   "source": [
    "g1 = z.groupby( [\"CV\",\"Unit\"] ).max()\n",
    "gzz= (g1.groupby(['CV'])\n",
    "      .mean()\n",
    "      .set_index(['v'],drop=True)\n",
    "      .rename(columns={\"t\":\"Time (h)\",\"q\":\"Charge (mAh)\"})\n",
    "      .rename_axis(\"Voltage\", axis=0)\n",
    "     )\n",
    "\n",
    "with pd.option_context('display.precision', 2):\n",
    "    style = gzz.style.pipe(dfdark)\n",
    "style\n"
   ]
  },
  {
   "cell_type": "markdown",
   "metadata": {},
   "source": [
    "## Pivot Table Form\n",
    "\n",
    "You can generate the same result using a pivot table. I just use this here as a cross-check."
   ]
  },
  {
   "cell_type": "code",
   "execution_count": 106,
   "metadata": {},
   "outputs": [
    {
     "data": {
      "text/html": [
       "<style  type=\"text/css\" >\n",
       "    #T_f8eaf162_ce3e_11ed_b064_cc3d827df47e thead {\n",
       "          background-color: tan;\n",
       "    }    #T_f8eaf162_ce3e_11ed_b064_cc3d827df47e tbody tr:nth-child(even) {\n",
       "          background-color: navajowhite;\n",
       "    }    #T_f8eaf162_ce3e_11ed_b064_cc3d827df47e th.row_heading {\n",
       "          background-color: beige;\n",
       "    }    #T_f8eaf162_ce3e_11ed_b064_cc3d827df47e td {\n",
       "          border: white;\n",
       "    }</style><table id=\"T_f8eaf162_ce3e_11ed_b064_cc3d827df47e\" ><thead>    <tr>        <th class=\"blank level0\" ></th>        <th class=\"col_heading level0 col0\" >Charge (mAh)</th>        <th class=\"col_heading level0 col1\" >Time (h)</th>    </tr>    <tr>        <th class=\"index_name level0\" >Termination Voltage</th>        <th class=\"blank\" ></th>        <th class=\"blank\" ></th>    </tr></thead><tbody>\n",
       "                <tr>\n",
       "                        <th id=\"T_f8eaf162_ce3e_11ed_b064_cc3d827df47elevel0_row0\" class=\"row_heading level0 row0\" >4.2</th>\n",
       "                        <td id=\"T_f8eaf162_ce3e_11ed_b064_cc3d827df47erow0_col0\" class=\"data row0 col0\" >10.65</td>\n",
       "                        <td id=\"T_f8eaf162_ce3e_11ed_b064_cc3d827df47erow0_col1\" class=\"data row0 col1\" >21.30</td>\n",
       "            </tr>\n",
       "            <tr>\n",
       "                        <th id=\"T_f8eaf162_ce3e_11ed_b064_cc3d827df47elevel0_row1\" class=\"row_heading level0 row1\" >4.3</th>\n",
       "                        <td id=\"T_f8eaf162_ce3e_11ed_b064_cc3d827df47erow1_col0\" class=\"data row1 col0\" >11.91</td>\n",
       "                        <td id=\"T_f8eaf162_ce3e_11ed_b064_cc3d827df47erow1_col1\" class=\"data row1 col1\" >23.83</td>\n",
       "            </tr>\n",
       "            <tr>\n",
       "                        <th id=\"T_f8eaf162_ce3e_11ed_b064_cc3d827df47elevel0_row2\" class=\"row_heading level0 row2\" >4.35</th>\n",
       "                        <td id=\"T_f8eaf162_ce3e_11ed_b064_cc3d827df47erow2_col0\" class=\"data row2 col0\" >12.45</td>\n",
       "                        <td id=\"T_f8eaf162_ce3e_11ed_b064_cc3d827df47erow2_col1\" class=\"data row2 col1\" >24.91</td>\n",
       "            </tr>\n",
       "    </tbody></table>"
      ],
      "text/plain": [
       "<pandas.io.formats.style.Styler at 0x179035a8070>"
      ]
     },
     "execution_count": 106,
     "metadata": {},
     "output_type": "execute_result"
    }
   ],
   "source": [
    "g2=(g1\n",
    "    .pivot_table(values=['q','t'],index=[\"CV\"],aggfunc=np.mean)\n",
    "    .rename(columns={\"t\":\"Time (h)\",\"q\":\"Charge (mAh)\"}, \\\n",
    "            index =  {'420':4.20,'430':4.30,'435':4.35})\n",
    "    .rename_axis('Termination Voltage')\n",
    "   )\n",
    "\n",
    "with pd.option_context('display.precision', 2):\n",
    "    style = g2.style.pipe(dfdark)\n",
    "style\n"
   ]
  },
  {
   "cell_type": "code",
   "execution_count": 157,
   "metadata": {},
   "outputs": [
    {
     "data": {
      "image/png": "[encoded data removed]",
      "text/plain": [
       "<Figure size 432x288 with 1 Axes>"
      ]
     },
     "metadata": {},
     "output_type": "display_data"
    }
   ],
   "source": [
    "plt.figure(figsize=(6,4))\n",
    "g2['x']=g2.index\n",
    "sns.lineplot(x = 'x', y = 'Charge (mAh)', color='green',data = g2)\n",
    "sns.scatterplot(x = 'x', y = 'Charge (mAh)', data = g2, s =200, marker='^',color='red')\n",
    "plt.title(\"Capacity versus Termination Voltage\")\n",
    "plt.xlabel(\"Termination Voltage (V)\")\n",
    "plt.ylabel(\"Capacity (mAh)\")\n",
    "plt.title(\"Z02FH SOC Curve\")\n",
    "None"
   ]
  },
  {
   "cell_type": "markdown",
   "metadata": {},
   "source": [
    "# Battery Capacity - Starkey Voltage Range"
   ]
  },
  {
   "cell_type": "code",
   "execution_count": 108,
   "metadata": {
    "scrolled": true
   },
   "outputs": [
    {
     "data": {
      "text/html": [
       "<style  type=\"text/css\" >\n",
       "    #T_f940a6dc_ce3e_11ed_bbb0_cc3d827df47e thead {\n",
       "          background-color: tan;\n",
       "    }    #T_f940a6dc_ce3e_11ed_bbb0_cc3d827df47e tbody tr:nth-child(even) {\n",
       "          background-color: navajowhite;\n",
       "    }    #T_f940a6dc_ce3e_11ed_bbb0_cc3d827df47e th.row_heading {\n",
       "          background-color: beige;\n",
       "    }    #T_f940a6dc_ce3e_11ed_bbb0_cc3d827df47e td {\n",
       "          border: white;\n",
       "    }</style><table id=\"T_f940a6dc_ce3e_11ed_bbb0_cc3d827df47e\" ><thead>    <tr>        <th class=\"blank level0\" ></th>        <th class=\"col_heading level0 col0\" >Charge (mAh)</th>    </tr>    <tr>        <th class=\"index_name level0\" >Voltage</th>        <th class=\"blank\" ></th>    </tr></thead><tbody>\n",
       "                <tr>\n",
       "                        <th id=\"T_f940a6dc_ce3e_11ed_bbb0_cc3d827df47elevel0_row0\" class=\"row_heading level0 row0\" >4.20</th>\n",
       "                        <td id=\"T_f940a6dc_ce3e_11ed_bbb0_cc3d827df47erow0_col0\" class=\"data row0 col0\" >10.54</td>\n",
       "            </tr>\n",
       "            <tr>\n",
       "                        <th id=\"T_f940a6dc_ce3e_11ed_bbb0_cc3d827df47elevel0_row1\" class=\"row_heading level0 row1\" >4.30</th>\n",
       "                        <td id=\"T_f940a6dc_ce3e_11ed_bbb0_cc3d827df47erow1_col0\" class=\"data row1 col0\" >11.72</td>\n",
       "            </tr>\n",
       "            <tr>\n",
       "                        <th id=\"T_f940a6dc_ce3e_11ed_bbb0_cc3d827df47elevel0_row2\" class=\"row_heading level0 row2\" >4.35</th>\n",
       "                        <td id=\"T_f940a6dc_ce3e_11ed_bbb0_cc3d827df47erow2_col0\" class=\"data row2 col0\" >12.24</td>\n",
       "            </tr>\n",
       "    </tbody></table>"
      ],
      "text/plain": [
       "<pandas.io.formats.style.Styler at 0x179019f36a0>"
      ]
     },
     "execution_count": 108,
     "metadata": {},
     "output_type": "execute_result"
    }
   ],
   "source": [
    "# It is important to understand the impact of the low battery voltage on the battery capacity.\n",
    "vLow=3*1.16              # The VHA side low battery threshold is 1.16 V, so 3*1.16 on the battery side of the HPM10\n",
    "tLowBat=34/60            # I need the low battery wait time in hours. 4 minutes persistenace + 30 minutes wait.\n",
    "iDischarge=0.36          # My estimate of the discharge current for the CIC nominal current\n",
    "qFix=tLowBat*iDischarge  # Here is the charge transferred during the low battery interval\n",
    "\n",
    "from scipy.interpolate import interp1d\n",
    "vy = pd.DataFrame({'CV':[],'q':[]})\n",
    "for y in z['CV'].unique():\n",
    "    vx = []\n",
    "    for x in z['Unit'].unique():\n",
    "        interp_func = interp1d(z.query(f\"Unit=='{x}' & CV=='{y}'\").v, z.query(f\"Unit=='{x}' & CV=='{y}'\").q)\n",
    "        qx = interp_func(vLow)\n",
    "    vy =vy.append({'CV':y,'q':qx+qFix},ignore_index=True)\n",
    "\n",
    "    gzzz= (vy\n",
    "      .set_index(['CV'],drop=True)\n",
    "      .rename(columns={\"q\":\"Charge (mAh)\"},index={'420':'4.20','430':'4.30','435':'4.35'})\n",
    "      .rename_axis(\"Voltage\", axis=0)\n",
    "     )\n",
    "\n",
    "with pd.option_context('display.precision', 2):\n",
    "    style = gzzz.sort_index().style.pipe(dfdark)\n",
    "style"
   ]
  },
  {
   "cell_type": "markdown",
   "metadata": {},
   "source": [
    "# SOC Curves"
   ]
  },
  {
   "cell_type": "markdown",
   "metadata": {},
   "source": [
    "## Generate SOC Curves for Each UUT"
   ]
  },
  {
   "cell_type": "code",
   "execution_count": 109,
   "metadata": {
    "scrolled": true
   },
   "outputs": [
    {
     "name": "stdout",
     "output_type": "stream",
     "text": [
      "      soc   VBAT    Data_Source    SOC\n",
      "0   100.0  4.200  Vendor (Z22A)  1.000\n",
      "1    99.9  4.180  Vendor (Z22A)  0.999\n",
      "2    95.0  4.125  Vendor (Z22A)  0.950\n",
      "3    90.0  4.080  Vendor (Z22A)  0.900\n",
      "4    85.0  4.039  Vendor (Z22A)  0.850\n",
      "5    80.0  4.000  Vendor (Z22A)  0.800\n",
      "6    75.0  3.965  Vendor (Z22A)  0.750\n",
      "7    70.0  3.931  Vendor (Z22A)  0.700\n",
      "8    65.0  3.897  Vendor (Z22A)  0.650\n",
      "9    60.0  3.860  Vendor (Z22A)  0.600\n",
      "10   55.0  3.835  Vendor (Z22A)  0.550\n",
      "11   50.0  3.817  Vendor (Z22A)  0.500\n",
      "12   40.0  3.788  Vendor (Z22A)  0.400\n",
      "13   35.0  3.775  Vendor (Z22A)  0.350\n",
      "14   30.0  3.758  Vendor (Z22A)  0.300\n",
      "15   25.0  3.740  Vendor (Z22A)  0.250\n",
      "16   20.0  3.721  Vendor (Z22A)  0.200\n",
      "17   15.0  3.691  Vendor (Z22A)  0.150\n",
      "18   10.0  3.679  Vendor (Z22A)  0.100\n",
      "19    5.0  3.595  Vendor (Z22A)  0.050\n",
      "20    3.0  3.490  Vendor (Z22A)  0.030\n",
      "21    2.0  3.410  Vendor (Z22A)  0.020\n",
      "22    1.0  3.300  Vendor (Z22A)  0.010\n",
      "23    0.0  3.000  Vendor (Z22A)  0.000\n",
      "         VBAT          t          q Unit Model   CV       SOC    Data_Source\n",
      "8163  4.35000   0.000000   0.000000  U03  Z02F  435  1.000000  Maccor (mean)\n",
      "8187  4.33448   0.000011   0.000006  U03  Z02F  435  1.000000  Maccor (mean)\n",
      "8161  4.32929   0.016678   0.008339  U03  Z02F  435  0.999335  Maccor (mean)\n",
      "8138  4.32715   0.033344   0.016672  U03  Z02F  435  0.998671  Maccor (mean)\n",
      "8142  4.32555   0.050011   0.025006  U03  Z02F  435  0.998007  Maccor (mean)\n",
      "...       ...        ...        ...  ...   ...  ...       ...            ...\n",
      "3422  3.13687  21.300003  10.650001  U01  Z02F  420  0.002870  Maccor (mean)\n",
      "3423  3.10857  21.316669  10.658335  U01  Z02F  420  0.002090  Maccor (mean)\n",
      "3424  3.07500  21.333336  10.666668  U01  Z02F  420  0.001309  Maccor (mean)\n",
      "3425  3.03426  21.350003  10.675001  U01  Z02F  420  0.000529  Maccor (mean)\n",
      "3426  3.00000  21.361306  10.680653  U01  Z02F  420  0.000000  Maccor (mean)\n",
      "\n",
      "[12628 rows x 8 columns]\n"
     ]
    }
   ],
   "source": [
    "vendor=pd.DataFrame({\"soc\" :[100,99.9,95,90,85,80,75,70,65,60,55,50,40,35,30,25,20,15,10,5,3,2,1,0],\n",
    "                    \"VBAT\":[4.2,4.18,4.125,4.08,4.039,4,3.965,3.931,3.897,3.86,3.835,3.817,3.788,3.775,3.758,3.74,3.721,3.691,3.679,3.595,3.49,3.41,3.3,3\n",
    "]}\n",
    ")\n",
    "vendor[\"Data_Source\"]=\"Vendor (Z22A)\"\n",
    "vendor['SOC']=0.01*vendor.soc\n",
    "print(vendor)\n",
    "\n",
    "r = pd.DataFrame()\n",
    "for v in z['CV'].unique():\n",
    "    for u in z['Unit'].unique():\n",
    "        s = z.query(f\"Unit=='{u}' & CV=='{v}'\")\n",
    "        s=s.sort_values(by=['t'])\n",
    "        m = s['q'].max()\n",
    "        s=s.assign(soc = 1-s['q']/m)\n",
    "        r = pd.concat([r,s])\n",
    "        \n",
    "r[\"Data_Source\"]=\"Maccor (mean)\"\n",
    "r=r.rename(columns={\"v\":\"VBAT\",\"soc\":\"SOC\"})\n",
    "print(r)"
   ]
  },
  {
   "cell_type": "markdown",
   "metadata": {},
   "source": [
    "## Graph SOC from 3.0 V to 4.2 V\n",
    "\n",
    "The vendor's normally rate their batteries from 3.0 V to 4.2 V. There are two batteries under test. The following plot shows an overplot of the two curves. As you can see, the two devices are very consistent. Normally, I average the two curves. In this case, there is no need to average because they are so similar."
   ]
  },
  {
   "cell_type": "code",
   "execution_count": 110,
   "metadata": {},
   "outputs": [
    {
     "data": {
      "image/png": "[encoded data removed]",
      "text/plain": [
       "<Figure size 484.875x288 with 1 Axes>"
      ]
     },
     "metadata": {},
     "output_type": "display_data"
    }
   ],
   "source": [
    "import matplotlib.ticker as tkr\n",
    "df3 = pd.concat([r,vendor]).reset_index(drop=True)\n",
    "ax=sns.relplot(x = df3.VBAT, y = df3.SOC, hue=df3.CV, palette = ['red', 'blue','green'],kind=\"line\", \\\n",
    "              height=4, aspect=6/4)\n",
    "ax.set(title='Z02FH SOC versus Z22A SOC',ylabel=\"SOC (%)\",xlabel=\"VBAT (V)\")\n",
    "for a in ax.axes.flat:\n",
    "    a.yaxis.set_major_formatter(tkr.FuncFormatter(lambda y, p: f'{y:.0%}'))\n",
    "leg = ax._legend\n",
    "leg.set_title(\"Termination Voltage\")\n",
    "leg.set_bbox_to_anchor([0.10, 0.95])\n",
    "leg._loc = 2 \n",
    "plt.show()\n",
    "\n"
   ]
  },
  {
   "cell_type": "code",
   "execution_count": 111,
   "metadata": {
    "scrolled": false
   },
   "outputs": [
    {
     "data": {
      "image/png": "[encoded data removed]",
      "text/plain": [
       "<Figure size 432x288 with 1 Axes>"
      ]
     },
     "metadata": {},
     "output_type": "display_data"
    }
   ],
   "source": [
    "\n",
    "plt.figure(figsize=(6,4))\n",
    "g=sns.lineplot(\n",
    "                     x=r.VBAT,\n",
    "                     y=r.SOC*100,\n",
    "                     style=r.Unit,\n",
    "                     hue=r.CV,\n",
    "                     alpha=0.6\n",
    ")\n",
    "g.yaxis.set_major_formatter(PercentFormatter())\n",
    "g.set_title(\"SOC Overplot\")\n",
    "plt.xlabel(\"VBAT (V)\")\n",
    "plt.ylabel(\"SOC (%)\")\n",
    "plt.title(\"Z02FH SOC Curve\")\n",
    "plt.show(fig)"
   ]
  },
  {
   "cell_type": "markdown",
   "metadata": {},
   "source": [
    "## Single Graph SOC Overplot\n",
    "\n",
    "I simply filtered for one unit and plotted all the SOCs on one plot. "
   ]
  },
  {
   "cell_type": "code",
   "execution_count": 112,
   "metadata": {
    "scrolled": false
   },
   "outputs": [
    {
     "data": {
      "image/png": "[encoded data removed]",
      "text/plain": [
       "<Figure size 432x288 with 1 Axes>"
      ]
     },
     "metadata": {},
     "output_type": "display_data"
    }
   ],
   "source": [
    "# These are close enough that I don't need to average them. I will just overplot.\n",
    "r1 = r.query(\"Unit=='U01'\").assign(SOC = lambda x: x.SOC*100)\n",
    "plt.figure(figsize=(6,4))\n",
    "g = sns.lineplot(data=r1,x='VBAT', y='SOC',hue='CV')\n",
    "g.yaxis.set_major_formatter(PercentFormatter())\n",
    "g.set_title(\"SOC Overplot\")\n",
    "plt.xlabel(\"VBAT (V)\")\n",
    "plt.ylabel(\"SOC (%)\")\n",
    "plt.title(\"Z02FH SOC Curve (0.5 mA)\")\n",
    "plt.show(fig)"
   ]
  },
  {
   "cell_type": "markdown",
   "metadata": {},
   "source": [
    "## SOC from 3.414 V to 4.2 V\n",
    "\n",
    "This is the SOC we would use in our application."
   ]
  },
  {
   "cell_type": "code",
   "execution_count": 113,
   "metadata": {},
   "outputs": [],
   "source": [
    "from scipy import interpolate\n",
    "n = r1[r1['VBAT']>3.414]\n",
    "y1 = pd.DataFrame()\n",
    "for u in n.CV.unique():\n",
    "    x = n[n['CV']==u]\n",
    "    socmin=x['SOC'].min()\n",
    "    f1 = interpolate.interp1d(x.VBAT, x.t, fill_value='extrapolate')\n",
    "    g1 = interpolate.interp1d(x.VBAT, x.q, fill_value='extrapolate')\n",
    "    new_row = pd.DataFrame({'SOC':0,'VBAT':3.414, 't':f1(3.414), 'q':g1(3.414),'Unit':'U01',\"Model\":\"Z22A\",\"CV\":u}, index=[0])\n",
    "    x=x.assign(SOC = lambda x: (x.SOC-socmin)/(100-socmin))\n",
    "    x=pd.concat([x.loc[:],new_row])\n",
    "    y1 = pd.concat([y1,x]).reset_index(drop=True)"
   ]
  },
  {
   "cell_type": "code",
   "execution_count": 114,
   "metadata": {
    "scrolled": true
   },
   "outputs": [
    {
     "data": {
      "image/png": "[encoded data removed]",
      "text/plain": [
       "<Figure size 432x288 with 1 Axes>"
      ]
     },
     "metadata": {},
     "output_type": "display_data"
    }
   ],
   "source": [
    "sns.set_style(\"darkgrid\")\n",
    "plt.figure(figsize=(6,4))\n",
    "y1.SOC = y1.SOC*100\n",
    "fig = sns.lineplot(\n",
    "            x='VBAT', \n",
    "            y='SOC',\n",
    "            hue='CV', \n",
    "            data=y1)\n",
    "fig.yaxis.set_major_formatter(PercentFormatter())\n",
    "plt.xlabel(\"VBAT (V)\")\n",
    "plt.ylabel(\"SOC(%)\")\n",
    "plt.title(\"Z02 Discharge Curve\")\n",
    "plt.show(fig)"
   ]
  },
  {
   "cell_type": "code",
   "execution_count": 166,
   "metadata": {},
   "outputs": [
    {
     "name": "stdout",
     "output_type": "stream",
     "text": [
      "[array([0, 1, 2, 3, 4, 5]), array([ 0,  1,  4,  9, 16, 25], dtype=int32)]\n",
      "[array([ True,  True,  True, False, False, False]), array([False, False, False, False,  True,  True])]\n"
     ]
    },
    {
     "data": {
      "text/plain": [
       "array([ 0,  1,  2, 42, 16, 25])"
      ]
     },
     "execution_count": 166,
     "metadata": {},
     "output_type": "execute_result"
    }
   ],
   "source": [
    "x = np.arange(6)\n",
    "condlist = [x<3, x>3]\n",
    "choicelist = [x, x**2]\n",
    "print(choicelist)\n",
    "print(condlist)\n",
    "np.select(condlist, choicelist, 42)"
   ]
  }
 ],
 "metadata": {
  "kernelspec": {
   "display_name": "Python 3",
   "language": "python",
   "name": "python3"
  },
  "language_info": {
   "codemirror_mode": {
    "name": "ipython",
    "version": 3
   },
   "file_extension": ".py",
   "mimetype": "text/x-python",
   "name": "python",
   "nbconvert_exporter": "python",
   "pygments_lexer": "ipython3",
   "version": "3.8.5"
  },
  "toc": {
   "base_numbering": 1,
   "nav_menu": {},
   "number_sections": true,
   "sideBar": true,
   "skip_h1_title": false,
   "title_cell": "Table of Contents",
   "title_sidebar": "Contents",
   "toc_cell": false,
   "toc_position": {},
   "toc_section_display": true,
   "toc_window_display": false
  }
 },
 "nbformat": 4,
 "nbformat_minor": 4
}
